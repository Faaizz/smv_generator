{
 "metadata": {
  "language_info": {
   "codemirror_mode": {
    "name": "ipython",
    "version": 3
   },
   "file_extension": ".py",
   "mimetype": "text/x-python",
   "name": "python",
   "nbconvert_exporter": "python",
   "pygments_lexer": "ipython3",
   "version": "3.8.5-final"
  },
  "orig_nbformat": 2,
  "kernelspec": {
   "name": "python38564biteds2020condaee33f8e6fe174929adef1f5db772c60a",
   "display_name": "Python 3.8.5 64-bit ('EDS2020': conda)"
  }
 },
 "nbformat": 4,
 "nbformat_minor": 2,
 "cells": [
  {
   "cell_type": "code",
   "execution_count": 1,
   "metadata": {},
   "outputs": [],
   "source": [
    "# Imports\n",
    "from collections import OrderedDict\n",
    "import json\n",
    "import pprint"
   ]
  },
  {
   "source": [
    "## Assignments"
   ],
   "cell_type": "markdown",
   "metadata": {}
  },
  {
   "source": [
    "### Input Assignments"
   ],
   "cell_type": "markdown",
   "metadata": {}
  },
  {
   "cell_type": "code",
   "execution_count": 49,
   "metadata": {},
   "outputs": [],
   "source": [
    "# Json input\n",
    "input_str= r\"\"\"\n",
    "{\n",
    "    \"I1\": \"boolean\",\n",
    "    \"I2\": [ \n",
    "            \"{\\\"1\\\", \\\"2\\\", \\\"3\\\"}\",\n",
    "            \"{\\\"1\\\", \\\"2\\\"}\",\n",
    "            \"{\\\"1\\\", \\\"2\\\", \\\"3\\\"}\"\n",
    "        ],\n",
    "    \"I3\": [\n",
    "            \"0..10\",\n",
    "            5,\n",
    "            \"{0, 5, 7}\"\n",
    "        ],\n",
    "    \"STATUS\": [\n",
    "            \"{\\\"stopped\\\", \\\"running\\\"}\",\n",
    "            \"stopped\",\n",
    "            \"{\\\"stopped\\\", \\\"running\\\"}\"\n",
    "        ]\n",
    "\n",
    "}\n",
    "\"\"\""
   ]
  },
  {
   "cell_type": "code",
   "execution_count": 50,
   "metadata": {},
   "outputs": [],
   "source": [
    "# Expected NuSMV\n",
    "expected= 'init(I1):= {TRUE, FALSE};\\n' + \\\n",
    "'init(I2):= {\"1\", \"2\"};\\n' + \\\n",
    "'init(I3):= 5;\\n' + \\\n",
    "'init(STATUS):= \"stopped\";\\n' + \\\n",
    "'next(I1):= case\\n' + \\\n",
    "'   stab: {TRUE, FALSE};\\n' +\\\n",
    "'   TRUE: I1;\\n' + \\\n",
    "'esac;\\n' + \\\n",
    "'next(I2):= case\\n' + \\\n",
    "'   stab: {\"1\", \"2\", \"3\"};\\n' +\\\n",
    "'   TRUE: I2;\\n' + \\\n",
    "'esac;\\n'+ \\\n",
    "'next(I3):= case\\n' + \\\n",
    "'   stab: {0, 5, 7};\\n' +\\\n",
    "'   TRUE: I3;\\n' + \\\n",
    "'esac;\\n'+ \\\n",
    "'next(STATUS):= case\\n' + \\\n",
    "'   stab: {\"stopped\", \"running\"};\\n' +\\\n",
    "'   TRUE: STATUS;\\n' + \\\n",
    "'esac;\\n'"
   ]
  },
  {
   "cell_type": "code",
   "execution_count": 51,
   "metadata": {},
   "outputs": [],
   "source": [
    "# Convert Json string to python dictionary\n",
    "in_dict= json.loads(input_str, object_pairs_hook=OrderedDict)"
   ]
  },
  {
   "cell_type": "code",
   "execution_count": 52,
   "metadata": {},
   "outputs": [
    {
     "output_type": "execute_result",
     "data": {
      "text/plain": [
       "OrderedDict([('I1', 'boolean'),\n",
       "             ('I2', ['{\"1\", \"2\", \"3\"}', '{\"1\", \"2\"}', '{\"1\", \"2\", \"3\"}']),\n",
       "             ('I3', ['0..10', 5, '{0, 5, 7}']),\n",
       "             ('STATUS',\n",
       "              ['{\"stopped\", \"running\"}',\n",
       "               'stopped',\n",
       "               '{\"stopped\", \"running\"}'])])"
      ]
     },
     "metadata": {},
     "execution_count": 52
    }
   ],
   "source": [
    "in_dict"
   ]
  },
  {
   "cell_type": "code",
   "execution_count": 62,
   "metadata": {},
   "outputs": [],
   "source": [
    "# define initialization & assignment strings\n",
    "init_str= \"\"\n",
    "assign_str= \"\""
   ]
  },
  {
   "cell_type": "code",
   "execution_count": 63,
   "metadata": {},
   "outputs": [
    {
     "output_type": "execute_result",
     "data": {
      "text/plain": [
       "'{\"1\", \"2\"}'"
      ]
     },
     "metadata": {},
     "execution_count": 63
    }
   ],
   "source": [
    "in_dict[\"I2\"][1]"
   ]
  },
  {
   "cell_type": "code",
   "execution_count": 64,
   "metadata": {},
   "outputs": [],
   "source": [
    "# loop through elements\n",
    "for key,value in in_dict.items():\n",
    "    # Check if type is a boolean\n",
    "    if isinstance(in_dict[key], str):\n",
    "        # Initialization\n",
    "        init_str= init_str + \"init({0})\".format(key) + \":= {TRUE, FALSE};\\n\"\n",
    "\n",
    "        # Assignment\n",
    "        assign_str= assign_str + \\\n",
    "            'next({0}):= case\\n'.format(key) + \\\n",
    "            '   stab: {TRUE, FALSE};\\n' +\\\n",
    "            '   TRUE: {0};\\n'.format(key) + \\\n",
    "            'esac;\\n'\n",
    "        \n",
    "    # if type is not a boolean\n",
    "    else:\n",
    "\n",
    "        # Initialization\n",
    "        init_val= in_dict[key][1]\n",
    "        # Check if initial value is a string and is not n enum type\n",
    "        if (isinstance(init_val, str) and not (\"{\" in init_val)):\n",
    "            init_val= '\"' + init_val + '\"'\n",
    "\n",
    "        init_str= init_str + \"init({0})\".format(key) + \":= {0};\\n\".format(init_val)\n",
    "\n",
    "        # Assignment\n",
    "        assign_str= assign_str + \\\n",
    "            'next({0}):= case\\n'.format(key) + \\\n",
    "            '   stab: {0};\\n'.format(in_dict[key][2]) +\\\n",
    "            '   TRUE: {0};\\n'.format(key) + \\\n",
    "            'esac;\\n'\n",
    "        \n",
    "# return\n",
    "out_str= init_str + assign_str"
   ]
  },
  {
   "cell_type": "code",
   "execution_count": 65,
   "metadata": {},
   "outputs": [],
   "source": [
    "out_str= init_str + assign_str"
   ]
  },
  {
   "cell_type": "code",
   "execution_count": 66,
   "metadata": {},
   "outputs": [
    {
     "output_type": "execute_result",
     "data": {
      "text/plain": [
       "'init(I1):= {TRUE, FALSE};\\ninit(I2):= {\"1\", \"2\"};\\ninit(I3):= 5;\\ninit(STATUS):= \"stopped\";\\nnext(I1):= case\\n   stab: {TRUE, FALSE};\\n   TRUE: I1;\\nesac;\\nnext(I2):= case\\n   stab: {\"1\", \"2\", \"3\"};\\n   TRUE: I2;\\nesac;\\nnext(I3):= case\\n   stab: {0, 5, 7};\\n   TRUE: I3;\\nesac;\\nnext(STATUS):= case\\n   stab: {\"stopped\", \"running\"};\\n   TRUE: STATUS;\\nesac;\\n'"
      ]
     },
     "metadata": {},
     "execution_count": 66
    }
   ],
   "source": [
    "out_str"
   ]
  },
  {
   "cell_type": "code",
   "execution_count": 67,
   "metadata": {},
   "outputs": [
    {
     "output_type": "stream",
     "name": "stdout",
     "text": [
      "('init(I1):= {TRUE, FALSE};\\n'\n 'init(I2):= {\"1\", \"2\"};\\n'\n 'init(I3):= 5;\\n'\n 'init(STATUS):= \"stopped\";\\n'\n 'next(I1):= case\\n'\n '   stab: {TRUE, FALSE};\\n'\n '   TRUE: I1;\\n'\n 'esac;\\n'\n 'next(I2):= case\\n'\n '   stab: {\"1\", \"2\", \"3\"};\\n'\n '   TRUE: I2;\\n'\n 'esac;\\n'\n 'next(I3):= case\\n'\n '   stab: {0, 5, 7};\\n'\n '   TRUE: I3;\\n'\n 'esac;\\n'\n 'next(STATUS):= case\\n'\n '   stab: {\"stopped\", \"running\"};\\n'\n '   TRUE: STATUS;\\n'\n 'esac;\\n')\n"
     ]
    }
   ],
   "source": [
    "pprint.pprint(out_str)"
   ]
  },
  {
   "cell_type": "code",
   "execution_count": 68,
   "metadata": {},
   "outputs": [
    {
     "output_type": "stream",
     "name": "stdout",
     "text": [
      "('init(I1):= {TRUE, FALSE};\\n'\n 'init(I2):= {\"1\", \"2\"};\\n'\n 'init(I3):= 5;\\n'\n 'init(STATUS):= \"stopped\";\\n'\n 'next(I1):= case\\n'\n '   stab: {TRUE, FALSE};\\n'\n '   TRUE: I1;\\n'\n 'esac;\\n'\n 'next(I2):= case\\n'\n '   stab: {\"1\", \"2\", \"3\"};\\n'\n '   TRUE: I2;\\n'\n 'esac;\\n'\n 'next(I3):= case\\n'\n '   stab: {0, 5, 7};\\n'\n '   TRUE: I3;\\n'\n 'esac;\\n'\n 'next(STATUS):= case\\n'\n '   stab: {\"stopped\", \"running\"};\\n'\n '   TRUE: STATUS;\\n'\n 'esac;\\n')\n"
     ]
    }
   ],
   "source": [
    "pprint.pprint(expected)"
   ]
  },
  {
   "cell_type": "code",
   "execution_count": 69,
   "metadata": {},
   "outputs": [],
   "source": [
    "assert(out_str == expected)"
   ]
  },
  {
   "source": [
    "### Place Assignment"
   ],
   "cell_type": "markdown",
   "metadata": {}
  },
  {
   "cell_type": "code",
   "execution_count": 42,
   "metadata": {},
   "outputs": [],
   "source": [
    "# Json input\n",
    "places_str= \"\"\"\n",
    "{\n",
    "    \"P1\": [\n",
    "        [\"O1\", \"O2\"],\n",
    "        [\"O3\"]\n",
    "    ],\n",
    "    \"P2\":[\n",
    "        [\"O2\", \"O3\"],\n",
    "        [\"O1\", \"O2\"]\n",
    "    ],\n",
    "    \"P3\": [\n",
    "        [\"O1\"],\n",
    "        [\"O2\", \"O3\"]\n",
    "    ],\n",
    "    \"initial\": [ \"P1\", \"P3\" ]\n",
    "    \n",
    "}\n",
    "\"\"\"\n",
    "\n",
    "transitions_str= \"\"\"\n",
    "{\n",
    "    \"T1\":[\n",
    "        [\"P1\", \"P2\"],\n",
    "        [\n",
    "            [ [\"I1\", \"I2\"], [\"I4\"] ],\n",
    "            [ [\"I3\"], [\"I4\"] ]\n",
    "        ],\n",
    "        [\"P3\"]\n",
    "    ],\n",
    "    \"T2\":[\n",
    "        [\"P3\"],\n",
    "        [\n",
    "            [ [\"I4\"], [\"I1\", \"I2\"] ],\n",
    "            [ [\"I4\"], [\"I3\"] ]\n",
    "        ],\n",
    "        [\"P1\", \"P2\"]\n",
    "    ]\n",
    "}\n",
    "\"\"\" "
   ]
  },
  {
   "cell_type": "code",
   "execution_count": 76,
   "metadata": {},
   "outputs": [],
   "source": [
    "# Expected NuSMV\n",
    "expected= 'init(P1):= true;\\n' + \\\n",
    "    'init(P2):= false;\\n' + \\\n",
    "    'init(P3):= true;\\n' + \\\n",
    "    'next(P1):= case\\n' + \\\n",
    "    '   T1: false;\\n' +\\\n",
    "    '   T2: true;\\n' +\\\n",
    "    '   true: P1;\\n' + \\\n",
    "    'esac;\\n' + \\\n",
    "    'next(P2):= case\\n' + \\\n",
    "    '   T1: false;\\n' +\\\n",
    "    '   T2: true;\\n' +\\\n",
    "    '   true: P2;\\n' + \\\n",
    "    'esac;\\n' + \\\n",
    "    'next(P3):= case\\n' + \\\n",
    "    '   T1: true;\\n' +\\\n",
    "    '   T2: false;\\n' +\\\n",
    "    '   true: P3;\\n' + \\\n",
    "    'esac;\\n'"
   ]
  },
  {
   "cell_type": "code",
   "execution_count": 44,
   "metadata": {},
   "outputs": [],
   "source": [
    "# Convert Json string to python dictionary\n",
    "places_dict= json.loads(places_str, object_pairs_hook=OrderedDict)\n",
    "transitions_dict= json.loads(transitions_str, object_pairs_hook=OrderedDict)\n"
   ]
  },
  {
   "cell_type": "code",
   "execution_count": 72,
   "metadata": {},
   "outputs": [],
   "source": [
    "# define initialization & assignment strings\n",
    "init_str= \"\"\n",
    "assign_str= \"\""
   ]
  },
  {
   "cell_type": "code",
   "execution_count": 73,
   "metadata": {},
   "outputs": [],
   "source": [
    "# Loop through places and initialize\n",
    "for place_key,value in places_dict.items():\n",
    "    if not (place_key == \"initial\"):\n",
    "        # Initialization\n",
    "        initial= \"false\"\n",
    "        # Check if marked by default\n",
    "        if place_key in places_dict[\"initial\"]:\n",
    "            initial= \"true\"\n",
    "\n",
    "        init_str= init_str + \"init({0}):= \".format(place_key) + \\\n",
    "            initial + \";\\n\"\n",
    "\n",
    "        # Assignment\n",
    "        assign_str= assign_str + \\\n",
    "                'next({0}):= case\\n'.format(place_key) \n",
    "        # Loop through transitions\n",
    "        for trans_key,value in transitions_dict.items():\n",
    "            # Check if current place is a post-place of the current transition\n",
    "            if place_key in transitions_dict[trans_key][2]:\n",
    "                assign_str= assign_str + \\\n",
    "                '   {0}: true;\\n'.format(trans_key)\n",
    "\n",
    "            # Check if current place is a pre-place of the current transition\n",
    "            if place_key in transitions_dict[trans_key][0]:\n",
    "                assign_str= assign_str + \\\n",
    "                '   {0}: false;\\n'.format(trans_key)\n",
    "\n",
    "        assign_str= assign_str + \\\n",
    "                '   true: {0};\\n'.format(place_key) + \\\n",
    "                'esac;\\n'\n"
   ]
  },
  {
   "cell_type": "code",
   "execution_count": 74,
   "metadata": {},
   "outputs": [
    {
     "output_type": "stream",
     "name": "stdout",
     "text": [
      "'init(P1):= true;\\ninit(P2):= false;\\ninit(P3):= true;\\n'\n"
     ]
    }
   ],
   "source": [
    "pprint.pprint(init_str)"
   ]
  },
  {
   "cell_type": "code",
   "execution_count": 75,
   "metadata": {},
   "outputs": [
    {
     "output_type": "stream",
     "name": "stdout",
     "text": [
      "('next(P1):= case\\n'\n '   T1: false;\\n'\n '   T2: true;\\n'\n '   true: P1;\\n'\n 'esac;\\n'\n 'next(P2):= case\\n'\n '   T1: false;\\n'\n '   T2: true;\\n'\n '   true: P2;\\n'\n 'esac;\\n'\n 'next(P3):= case\\n'\n '   T1: true;\\n'\n '   T2: false;\\n'\n '   true: P3;\\n'\n 'esac;\\n')\n"
     ]
    }
   ],
   "source": [
    "pprint.pprint(assign_str)\n"
   ]
  },
  {
   "cell_type": "code",
   "execution_count": null,
   "metadata": {},
   "outputs": [],
   "source": []
  }
 ]
}
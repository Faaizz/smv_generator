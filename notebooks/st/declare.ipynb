{
 "metadata": {
  "language_info": {
   "codemirror_mode": {
    "name": "ipython",
    "version": 3
   },
   "file_extension": ".py",
   "mimetype": "text/x-python",
   "name": "python",
   "nbconvert_exporter": "python",
   "pygments_lexer": "ipython3",
   "version": "3.8.5-final"
  },
  "orig_nbformat": 2,
  "kernelspec": {
   "name": "python38564biteds2020condaee33f8e6fe174929adef1f5db772c60a",
   "display_name": "Python 3.8.5 64-bit ('EDS2020': conda)"
  }
 },
 "nbformat": 4,
 "nbformat_minor": 2,
 "cells": [
  {
   "cell_type": "code",
   "execution_count": 1,
   "metadata": {},
   "outputs": [
    {
     "output_type": "error",
     "ename": "Error",
     "evalue": "Jupyter cannot be started. Error attempting to locate jupyter: 'Kernelspec' module not installed in the selected interpreter (C:\\Users\\fr33z\\AppData\\Local\\Programs\\Python\\Python39\\python.exe).\n Please re-install or update 'jupyter'.",
     "traceback": [
      "Error: Jupyter cannot be started. Error attempting to locate jupyter: 'Kernelspec' module not installed in the selected interpreter (C:\\Users\\fr33z\\AppData\\Local\\Programs\\Python\\Python39\\python.exe).",
      "Please re-install or update 'jupyter'.",
      "at w.startServer (c:\\Users\\fr33z\\.vscode\\extensions\\ms-toolsai.jupyter-2020.11.372831992\\out\\client\\extension.js:49:383136)",
      "at runMicrotasks (<anonymous>)",
      "at processTicksAndRejections (internal/process/task_queues.js:94:5)",
      "at async w.createServer (c:\\Users\\fr33z\\.vscode\\extensions\\ms-toolsai.jupyter-2020.11.372831992\\out\\client\\extension.js:49:382434)",
      "at async connect (c:\\Users\\fr33z\\.vscode\\extensions\\ms-toolsai.jupyter-2020.11.372831992\\out\\client\\extension.js:49:507754)",
      "at async f.ensureConnectionAndNotebookImpl (c:\\Users\\fr33z\\.vscode\\extensions\\ms-toolsai.jupyter-2020.11.372831992\\out\\client\\extension.js:32:569764)",
      "at async f.ensureConnectionAndNotebook (c:\\Users\\fr33z\\.vscode\\extensions\\ms-toolsai.jupyter-2020.11.372831992\\out\\client\\extension.js:32:568228)",
      "at async f.clearResult (c:\\Users\\fr33z\\.vscode\\extensions\\ms-toolsai.jupyter-2020.11.372831992\\out\\client\\extension.js:32:564008)",
      "at async f.reexecuteCell (c:\\Users\\fr33z\\.vscode\\extensions\\ms-toolsai.jupyter-2020.11.372831992\\out\\client\\extension.js:9:170425)",
      "at async f.reexecuteCells (c:\\Users\\fr33z\\.vscode\\extensions\\ms-toolsai.jupyter-2020.11.372831992\\out\\client\\extension.js:9:166755)"
     ]
    }
   ],
   "source": [
    "# imports\n",
    "import json\n",
    "from collections import OrderedDict"
   ]
  },
  {
   "source": [
    "## Declarations"
   ],
   "cell_type": "markdown",
   "metadata": {}
  },
  {
   "source": [
    "### Input Declaration"
   ],
   "cell_type": "markdown",
   "metadata": {}
  },
  {
   "cell_type": "code",
   "execution_count": 64,
   "metadata": {},
   "outputs": [],
   "source": [
    "# Json input\n",
    "input_str= r\"\"\"\n",
    "{\n",
    "    \"S_AL1_ST1\": [\"boolean\", \"%IX100.0\"],\n",
    "    \"S_AL1_ST2\": [\"boolean\", \"%IX100.1\"],\n",
    "    \"STATUS\": [\n",
    "        [\n",
    "            \"{\\\"stopped\\\", \\\"running\\\"}\",\n",
    "            \"stopped\",\n",
    "            \"{\\\"stopped\\\", \\\"running\\\"}\"\n",
    "        ],\n",
    "        \"%IX100.2\"\n",
    "    ],\n",
    "    \"AL1_ST_X_POS\": [\n",
    "        [\n",
    "            \"{0, 400, 860}\",\n",
    "            0,\n",
    "            \"{0, 400, 860}\"\n",
    "        ],\n",
    "        \"%IW100\",\n",
    "        \"INT\"\n",
    "    ],\n",
    "    \"AL1_ST_Y_POS\": [\n",
    "        [\n",
    "            \"{0, 300, 560}\",\n",
    "            0,\n",
    "            \"{0, 300, 560}\"\n",
    "        ],\n",
    "        \"%IW101\",\n",
    "        \"INT\"\n",
    "    ]\n",
    "}\n",
    "\"\"\"\n"
   ]
  },
  {
   "cell_type": "code",
   "execution_count": 65,
   "metadata": {},
   "outputs": [],
   "source": [
    "\n",
    "# Convert Json string to python dictionary\n",
    "in_dict= json.loads(input_str, object_pairs_hook=OrderedDict)\n"
   ]
  },
  {
   "cell_type": "code",
   "execution_count": 66,
   "metadata": {},
   "outputs": [],
   "source": [
    "# Expected MuSMV\n",
    "expected= 'S_AL1_ST1 AT %IX100.0: BOOL;\\n' + \\\n",
    "    'S_AL1_ST2 AT %IX100.1: BOOL;\\n' + \\\n",
    "    'STATUS AT %IX100.2: BOOL;\\n' + \\\n",
    "    'AL1_ST_X_POS AT %IW100: INT;\\n' + \\\n",
    "    'AL1_ST_Y_POS AT %IW101: INT;\\n'"
   ]
  },
  {
   "cell_type": "code",
   "execution_count": 67,
   "metadata": {},
   "outputs": [
    {
     "output_type": "execute_result",
     "data": {
      "text/plain": [
       "OrderedDict([('S_AL1_ST1', ['boolean', '%IX100.0']),\n",
       "             ('S_AL1_ST2', ['boolean', '%IX100.1']),\n",
       "             ('STATUS',\n",
       "              [['{\"stopped\", \"running\"}', 'stopped', '{\"stopped\", \"running\"}'],\n",
       "               '%IX100.2']),\n",
       "             ('AL1_ST_X_POS',\n",
       "              [['{0, 400, 860}', 0, '{0, 400, 860}'], '%IW100', 'INT']),\n",
       "             ('AL1_ST_Y_POS',\n",
       "              [['{0, 300, 560}', 0, '{0, 300, 560}'], '%IW101', 'INT'])])"
      ]
     },
     "metadata": {},
     "execution_count": 67
    }
   ],
   "source": [
    "in_dict"
   ]
  },
  {
   "cell_type": "code",
   "execution_count": 68,
   "metadata": {},
   "outputs": [],
   "source": [
    "out_str= \"\""
   ]
  },
  {
   "cell_type": "code",
   "execution_count": 69,
   "metadata": {},
   "outputs": [],
   "source": [
    "value= in_dict[\"S_AL1_ST1\"][1]"
   ]
  },
  {
   "cell_type": "code",
   "execution_count": 70,
   "metadata": {},
   "outputs": [
    {
     "output_type": "execute_result",
     "data": {
      "text/plain": [
       "'INT'"
      ]
     },
     "metadata": {},
     "execution_count": 70
    }
   ],
   "source": [
    "in_dict[\"AL1_ST_X_POS\"][2]"
   ]
  },
  {
   "cell_type": "code",
   "execution_count": 71,
   "metadata": {},
   "outputs": [
    {
     "output_type": "execute_result",
     "data": {
      "text/plain": [
       "False"
      ]
     },
     "metadata": {},
     "execution_count": 71
    }
   ],
   "source": [
    "\"W\" in value"
   ]
  },
  {
   "cell_type": "code",
   "execution_count": 72,
   "metadata": {},
   "outputs": [],
   "source": [
    "# loop through elements\n",
    "for key in iter(in_dict):\n",
    "    value= in_dict[key][1]\n",
    "    # Check variable type\n",
    "    if (\"X\" in value) or (\"W\" in value):\n",
    "        if (\"X\" in value):\n",
    "            # Type is boolean\n",
    "            input_type= \"BOOL\"\n",
    "\n",
    "        if (\"W\" in value):\n",
    "            # Type is word\n",
    "            # Check if further information on type is specified\n",
    "            try:\n",
    "                input_type= in_dict[key][2]\n",
    "            except KeyError:\n",
    "                input_type= value\n",
    "    \n",
    "    else: \n",
    "        # Type not found\n",
    "        err_str=\"Invalid variable type specified for ST at\" +  value \n",
    "        raise ValueError(err_str)\n",
    "\n",
    "    temp= key + \" AT \" + value  + \": \" + input_type + \";\\n\"\n",
    "    out_str= out_str + temp"
   ]
  },
  {
   "cell_type": "code",
   "execution_count": 73,
   "metadata": {},
   "outputs": [
    {
     "output_type": "execute_result",
     "data": {
      "text/plain": [
       "'S_AL1_ST1 AT %IX100.0: BOOL;\\nS_AL1_ST2 AT %IX100.1: BOOL;\\nSTATUS AT %IX100.2: BOOL;\\nAL1_ST_X_POS AT %IW100: INT;\\nAL1_ST_Y_POS AT %IW101: INT;\\n'"
      ]
     },
     "metadata": {},
     "execution_count": 73
    }
   ],
   "source": [
    "out_str"
   ]
  },
  {
   "cell_type": "code",
   "execution_count": 74,
   "metadata": {},
   "outputs": [
    {
     "output_type": "execute_result",
     "data": {
      "text/plain": [
       "'S_AL1_ST1 AT %IX100.0: BOOL;\\nS_AL1_ST2 AT %IX100.1: BOOL;\\nSTATUS AT %IX100.2: BOOL;\\nAL1_ST_X_POS AT %IW100: INT;\\nAL1_ST_Y_POS AT %IW101: INT;\\n'"
      ]
     },
     "metadata": {},
     "execution_count": 74
    }
   ],
   "source": [
    "expected"
   ]
  },
  {
   "cell_type": "code",
   "execution_count": 75,
   "metadata": {},
   "outputs": [],
   "source": [
    "assert( out_str == expected)"
   ]
  },
  {
   "source": [
    "\n",
    "\n",
    "\n",
    "### Output Declaration"
   ],
   "cell_type": "markdown",
   "metadata": {}
  },
  {
   "cell_type": "code",
   "execution_count": 2,
   "metadata": {},
   "outputs": [],
   "source": [
    "# Json input\n",
    "input_str= r\"\"\"\n",
    "{\n",
    "    \"AL1_ST_X_SET\": [\"%QW100\", \"INT\"],\n",
    "    \"AL1_ST_Y_SET\":  [\"%QW101\", \"INT\"],\n",
    "    \"RP_AL1_ST_CLAMP\":  [\"%QX100.0\"],\n",
    "    \"RC_AL1_ST\": [\"%QX100.3\"]\n",
    "}\n",
    "\"\"\""
   ]
  },
  {
   "cell_type": "code",
   "execution_count": 14,
   "metadata": {},
   "outputs": [],
   "source": [
    "# Expected MuSMV\n",
    "expected= 'AL1_ST_X_SET AT %QW100: INT;\\n' + \\\n",
    "    'AL1_ST_Y_SET AT %QW101: INT;\\n' + \\\n",
    "    'RP_AL1_ST_CLAMP AT %QX100.0: BOOL;\\n' + \\\n",
    "    'RC_AL1_ST AT %QX100.3: BOOL;\\n'"
   ]
  },
  {
   "cell_type": "code",
   "execution_count": 15,
   "metadata": {},
   "outputs": [],
   "source": [
    "# Convert Json string to python dictionary\n",
    "in_dict= json.loads(input_str, object_pairs_hook=OrderedDict)"
   ]
  },
  {
   "cell_type": "code",
   "execution_count": 16,
   "metadata": {},
   "outputs": [],
   "source": [
    "out_str= \"\""
   ]
  },
  {
   "cell_type": "code",
   "execution_count": 17,
   "metadata": {},
   "outputs": [],
   "source": [
    "# loop through elements\n",
    "for key in iter(in_dict):\n",
    "    value= in_dict[key][0]\n",
    "    # Check variable type\n",
    "    if (\"X\" in value) or (\"W\" in value):\n",
    "        if (\"X\" in value):\n",
    "            # Type is boolean\n",
    "            input_type= \"BOOL\"\n",
    "\n",
    "        if (\"W\" in value):\n",
    "            # Type is word\n",
    "            # Check if further information on type is specified\n",
    "            try:\n",
    "                input_type= in_dict[key][1]\n",
    "            except KeyError:\n",
    "                input_type= value\n",
    "    \n",
    "    else: \n",
    "        # Type not found\n",
    "        err_str=\"Invalid variable type specified for ST at\" +  value \n",
    "        raise ValueError(err_str)\n",
    "\n",
    "    temp= key + \" AT \" + value  + \": \" + input_type + \";\\n\"\n",
    "    out_str= out_str + temp"
   ]
  },
  {
   "cell_type": "code",
   "execution_count": 18,
   "metadata": {},
   "outputs": [
    {
     "output_type": "execute_result",
     "data": {
      "text/plain": [
       "'AL1_ST_X_SET AT %QW100: INT;\\nAL1_ST_Y_SET AT %QW101: INT;\\nRP_AL1_ST_CLAMP AT %QX100.0: BOOL;\\nRC_AL1_ST AT %QX100.3: BOOL;\\n'"
      ]
     },
     "metadata": {},
     "execution_count": 18
    }
   ],
   "source": [
    "out_str"
   ]
  },
  {
   "cell_type": "code",
   "execution_count": 19,
   "metadata": {},
   "outputs": [
    {
     "output_type": "execute_result",
     "data": {
      "text/plain": [
       "'AL1_ST_X_SET AT %QW100: INT;\\nAL1_ST_Y_SET AT %QW101: INT;\\nRP_AL1_ST_CLAMP AT %QX100.0: BOOL;\\nRC_AL1_ST AT %QX100.3: BOOL;\\n'"
      ]
     },
     "metadata": {},
     "execution_count": 19
    }
   ],
   "source": [
    "expected"
   ]
  },
  {
   "cell_type": "code",
   "execution_count": 20,
   "metadata": {},
   "outputs": [],
   "source": [
    "assert (out_str == expected)"
   ]
  },
  {
   "source": [
    "### Place Declaration"
   ],
   "cell_type": "markdown",
   "metadata": {}
  },
  {
   "cell_type": "code",
   "execution_count": 23,
   "metadata": {},
   "outputs": [],
   "source": [
    "# Json input\n",
    "input_str= \"\"\"\n",
    "{\n",
    "    \"PS2\": [\n",
    "        [\n",
    "            [\"RP_AL1_ST_CLAMP\"], [\"AL1_ST_GRAB\"]\n",
    "        ],\n",
    "        \"Product gets withing graber range\"\n",
    "    ],\n",
    "    \"PS4\": [\n",
    "        [\n",
    "            [\"RP_AL1_ST_CLAMP\"], [\"AL1_ST_GRAB\"]\n",
    "        ],\n",
    "        [\"AL1_ST_Z_SET:=750\"],\n",
    "        \"Move grabber down to pick up product\"\n",
    "    ],\n",
    "    \"PSE0\": [\n",
    "        [\n",
    "            [], [\"AL1_EMIT\", \"RC_AL1_ST\"]\n",
    "        ],\n",
    "        \"New box arrived, stop conveyor\"\n",
    "    ],\n",
    "    \"initial\": [\"PS2\", \"PSE0\"]\n",
    "    \n",
    "}\n",
    "\"\"\"\n",
    "\n"
   ]
  },
  {
   "cell_type": "code",
   "execution_count": 24,
   "metadata": {},
   "outputs": [],
   "source": [
    "# Convert Json string to python dictionary\n",
    "in_dict= json.loads(input_str)"
   ]
  },
  {
   "cell_type": "code",
   "execution_count": 25,
   "metadata": {},
   "outputs": [],
   "source": [
    "# Expected NuSMV\n",
    "expected= \"PS2: BOOL;\\n\" + \"PS4: BOOL;\\n\" + \"PSE0: BOOL;\\n\" + \"STABLE: BOOL;\\n\""
   ]
  },
  {
   "cell_type": "code",
   "execution_count": 33,
   "metadata": {},
   "outputs": [],
   "source": [
    "out_str=\"\""
   ]
  },
  {
   "cell_type": "code",
   "execution_count": 34,
   "metadata": {},
   "outputs": [],
   "source": [
    "initial= in_dict[\"initial\"]"
   ]
  },
  {
   "cell_type": "code",
   "execution_count": 35,
   "metadata": {},
   "outputs": [],
   "source": [
    "for key,value in in_dict.items():\n",
    "    if not key == \"initial\":\n",
    "        temp= key + \": \" + \"BOOL:= \"\n",
    "        # Inital value\n",
    "        if key in initial:\n",
    "            temp= temp + \"1;\\n\"\n",
    "        else:\n",
    "            temp= temp + \"0;\\n\"\n",
    "\n",
    "        out_str= out_str + temp\n",
    "\n",
    "out_str= out_str  + \"STABLE: BOOL:= 0;\\n\""
   ]
  },
  {
   "cell_type": "code",
   "execution_count": 36,
   "metadata": {},
   "outputs": [
    {
     "output_type": "execute_result",
     "data": {
      "text/plain": [
       "'PS2: BOOL:= 1;\\nPS4: BOOL:= 0;\\nPSE0: BOOL:= 1;\\nSTABLE: BOOL:= 0;\\n'"
      ]
     },
     "metadata": {},
     "execution_count": 36
    }
   ],
   "source": [
    "out_str"
   ]
  },
  {
   "cell_type": "code",
   "execution_count": 37,
   "metadata": {},
   "outputs": [
    {
     "output_type": "execute_result",
     "data": {
      "text/plain": [
       "'PS2: BOOL;\\nPS4: BOOL;\\nPSE0: BOOL;\\nSTABLE: BOOL;\\n'"
      ]
     },
     "metadata": {},
     "execution_count": 37
    }
   ],
   "source": [
    "expected"
   ]
  },
  {
   "cell_type": "code",
   "execution_count": 63,
   "metadata": {},
   "outputs": [],
   "source": [
    "assert expected == out_str"
   ]
  }
 ]
}
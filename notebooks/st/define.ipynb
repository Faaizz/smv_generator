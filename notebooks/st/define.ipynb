{
 "metadata": {
  "language_info": {
   "codemirror_mode": {
    "name": "ipython",
    "version": 3
   },
   "file_extension": ".py",
   "mimetype": "text/x-python",
   "name": "python",
   "nbconvert_exporter": "python",
   "pygments_lexer": "ipython3",
   "version": "3.8.5-final"
  },
  "orig_nbformat": 2,
  "kernelspec": {
   "name": "python38564biteds2020condaee33f8e6fe174929adef1f5db772c60a",
   "display_name": "Python 3.8.5 64-bit ('EDS2020': conda)"
  }
 },
 "nbformat": 4,
 "nbformat_minor": 2,
 "cells": [
  {
   "cell_type": "code",
   "execution_count": 1,
   "metadata": {},
   "outputs": [],
   "source": [
    "# Imports\n",
    "import json\n",
    "from collections import OrderedDict\n",
    "import pprint"
   ]
  },
  {
   "source": [
    "## Definitions"
   ],
   "cell_type": "markdown",
   "metadata": {}
  },
  {
   "source": [
    "### Transitions Definition"
   ],
   "cell_type": "markdown",
   "metadata": {}
  },
  {
   "cell_type": "code",
   "execution_count": 2,
   "metadata": {},
   "outputs": [],
   "source": [
    "# Json input\n",
    "input_str= \"\"\"\n",
    "{\n",
    "    \"T1\":[\n",
    "        [\"P1\", \"P2\"],\n",
    "        [\n",
    "            [ \"I1 & I2 & !I4\" ],\n",
    "            [ [\"I3\"], [\"I4\"] ]\n",
    "        ],\n",
    "        [\"P3\"],\n",
    "        \"T1 comment\"\n",
    "    ],\n",
    "    \"T2\":[\n",
    "        [\"P3\"],\n",
    "        [\n",
    "            [ [\"I4\"], [\"I1\", \"I2\"] ],\n",
    "            [ \"I4 & !I3\" ]\n",
    "        ],\n",
    "        [\"P1\", \"P2\"],\n",
    "        \"T2 comment\"\n",
    "    ]\n",
    "}\n",
    "\"\"\""
   ]
  },
  {
   "cell_type": "code",
   "execution_count": 3,
   "metadata": {},
   "outputs": [],
   "source": [
    "# Convert Json string to python dictionary\n",
    "in_dict= json.loads(input_str, object_pairs_hook=OrderedDict)"
   ]
  },
  {
   "cell_type": "code",
   "execution_count": 4,
   "metadata": {},
   "outputs": [],
   "source": [
    "# Expected NuSMV\n",
    "expected= \"STABLE:=0;\\n\" + \\\n",
    "        \"WHILE STABLE=0 DO\\n\" + \\\n",
    "        \"   STABLE:=1;\\n\" + \\\n",
    "        \"   (*T1*)\\n\" + \\\n",
    "        \"   IF (P1 AND P2) AND ( (I1 AND I2 AND NOT I4) OR (I3 AND NOT I4) ) AND (NOT P3) THEN\\n\" + \\\n",
    "        \"       P1:=0;\\n\" + \\\n",
    "        \"       P2:=0;\\n\" + \\\n",
    "        \"       P3:=1;\\n\" + \\\n",
    "        \"       STABLE:=0;\\n\" + \\\n",
    "        \"   END_IF;\\n\" + \\\n",
    "        \"   (*T2*)\\n\" + \\\n",
    "        \"   IF (P3) AND ( (I4 AND NOT I1 AND NOT I2) OR (I4 AND NOT I3) ) AND (NOT P1 AND NOT P2) THEN\\n\" + \\\n",
    "        \"       P3:=0;\\n\" + \\\n",
    "        \"       P1:=1;\\n\" + \\\n",
    "        \"       P2:=1;\\n\" + \\\n",
    "        \"       STABLE:=0;\\n\" + \\\n",
    "        \"   END_IF;\\n\" + \\\n",
    "        \"END_WHILE;\\n\""
   ]
  },
  {
   "cell_type": "code",
   "execution_count": 5,
   "metadata": {},
   "outputs": [],
   "source": [
    "out_str= \"STABLE:=0;\\n\" + \\\n",
    "    \"WHILE STABLE=0 DO\\n\" + \\\n",
    "    \"   STABLE:=1;\\n\""
   ]
  },
  {
   "cell_type": "code",
   "execution_count": 6,
   "metadata": {},
   "outputs": [],
   "source": [
    "for key in iter(in_dict):\n",
    "\n",
    "    # Get value of current transition\n",
    "    value= in_dict[key]\n",
    "\n",
    "    # Pre-places\n",
    "    pre= value[0]\n",
    "    # Pre-places condition\n",
    "    pre_str= \"(\"\n",
    "    # Pre-places assignment\n",
    "    pre_ass_str= \"\"\n",
    "    for idx,item in enumerate(pre):\n",
    "        # Not last element\n",
    "        if idx < len(pre)-1:\n",
    "            pre_str= pre_str + item + \" AND \"\n",
    "        else:\n",
    "            pre_str= pre_str + item\n",
    "        # Assignment\n",
    "        pre_ass_str= pre_ass_str + \"       \" + item + \":=0;\\n\"\n",
    "\n",
    "    pre_str= pre_str + \")\"\n",
    "\n",
    "    # Inputs\n",
    "    req_inputs= value[1]\n",
    "    # Required inputs condition\n",
    "    req_str= \"( \"\n",
    "    for idx_out,item in enumerate(req_inputs):\n",
    "\n",
    "        # Temp string opening brace\n",
    "        temp_str= \"(\"\n",
    "\n",
    "        # Check if condition is specified as a raw string\n",
    "        if isinstance(item[0], str):\n",
    "            # Replace & with AND\n",
    "            temp_temp= item[0].replace(\"&\", \"AND\")\n",
    "            # Replace | with OR\n",
    "            temp_temp= temp_temp.replace(\"|\", \"OR\")\n",
    "            # Replace ! with NOT\n",
    "            temp_temp= temp_temp.replace(\"!\", \"NOT \")\n",
    "\n",
    "            temp_str= temp_str + temp_temp\n",
    "        \n",
    "        else:\n",
    "            high_ins= item[0]\n",
    "            low_ins= item[1]\n",
    "            # temp inputs\n",
    "            for idx_high,high_in in enumerate(high_ins):\n",
    "                # Not last item\n",
    "                if idx_high < len(high_ins)-1:\n",
    "                    temp_str= temp_str + high_in + \" AND \"\n",
    "                # If last item\n",
    "                else:\n",
    "                    # If there are no low outputs required\n",
    "                    if len(low_ins) < 1:\n",
    "                        temp_str= temp_str + high_in\n",
    "                    else:\n",
    "                        temp_str= temp_str + high_in + \" AND \"\n",
    "            \n",
    "            # Low inputs\n",
    "            for idx_low,low_in in enumerate(low_ins):\n",
    "                # Not last item\n",
    "                if idx_low < len(low_ins)-1:\n",
    "                    temp_str= temp_str + \"NOT \" + low_in + \" AND \"\n",
    "                # If last item\n",
    "                else:\n",
    "                    temp_str= temp_str + \"NOT \" + low_in\n",
    "\n",
    "        # Temp string closing brace\n",
    "        temp_str= temp_str + \")\"   \n",
    "\n",
    "        # If not last item, add an OR operator\n",
    "        if idx_out < (len(req_inputs)-1):\n",
    "            temp_str= temp_str + \" OR \"\n",
    "\n",
    "        # Append Temp string to req_str\n",
    "        req_str= req_str + temp_str\n",
    "\n",
    "    # req_str closin brace\n",
    "    req_str= req_str + \" )\"\n",
    "\n",
    "    # Post-places\n",
    "    post= value[2]\n",
    "    # Post-places condition\n",
    "    post_str= \"(\"\n",
    "    # Post places assignment\n",
    "    post_ass_str= \"\"\n",
    "    for idx_post,item_post in enumerate(post):\n",
    "        # Not last element\n",
    "        if idx_post < len(post)-1:\n",
    "            post_str= post_str + \"NOT \" + item_post + \" AND \"\n",
    "        else:\n",
    "            post_str= post_str + \"NOT \" + item_post\n",
    "        # Assignment\n",
    "        post_ass_str= post_ass_str + \"       \" + item_post + \":=1;\\n\"\n",
    "\n",
    "    post_str= post_str + \")\"\n",
    "\n",
    "    # Append transition name to output\n",
    "    out_str= out_str + \"   (*\" + key + \"*)\\n\"\n",
    "    # Append if statement\n",
    "    out_str= out_str + \"   IF \"\n",
    "    # Append pre-place condition\n",
    "    out_str= out_str + pre_str + \" AND \"\n",
    "    # Append inputs condition\n",
    "    out_str= out_str + req_str + \" AND \"\n",
    "    # Append post-place condition\n",
    "    out_str= out_str + post_str\n",
    "    # Add then keyword\n",
    "    out_str= out_str + \" THEN\\n\"\n",
    "    # Assignments\n",
    "    out_str= out_str + pre_ass_str\n",
    "    out_str= out_str + post_ass_str\n",
    "    # Stable\n",
    "    out_str= out_str + \"       STABLE:=0;\\n\"\n",
    "    # End if\n",
    "    out_str= out_str + \"   END_IF;\\n\"\n"
   ]
  },
  {
   "cell_type": "code",
   "execution_count": 7,
   "metadata": {},
   "outputs": [],
   "source": [
    "out_str= out_str + \"END_WHILE;\\n\""
   ]
  },
  {
   "cell_type": "code",
   "execution_count": 8,
   "metadata": {},
   "outputs": [
    {
     "output_type": "stream",
     "name": "stdout",
     "text": [
      "('STABLE:=0;\\n'\n 'WHILE STABLE=0 DO\\n'\n '   STABLE:=1;\\n'\n '   (*T1*)\\n'\n '   IF (P1 AND P2) AND ( (I1 AND I2 AND NOT I4) OR (I3 AND NOT I4) ) AND (NOT '\n 'P3) THEN\\n'\n '       P1:=0;\\n'\n '       P2:=0;\\n'\n '       P3:=1;\\n'\n '       STABLE:=0;\\n'\n '   END_IF;\\n'\n '   (*T2*)\\n'\n '   IF (P3) AND ( (I4 AND NOT I1 AND NOT I2) OR (I4 AND NOT I3) ) AND (NOT P1 '\n 'AND NOT P2) THEN\\n'\n '       P3:=0;\\n'\n '       P1:=1;\\n'\n '       P2:=1;\\n'\n '       STABLE:=0;\\n'\n '   END_IF;\\n'\n 'END_WHILE;\\n')\n"
     ]
    }
   ],
   "source": [
    "pprint.pprint(out_str)"
   ]
  },
  {
   "cell_type": "code",
   "execution_count": 9,
   "metadata": {},
   "outputs": [
    {
     "output_type": "stream",
     "name": "stdout",
     "text": [
      "('STABLE:=0;\\n'\n 'WHILE STABLE=0 DO\\n'\n '   STABLE:=1;\\n'\n '   (*T1*)\\n'\n '   IF (P1 AND P2) AND ( (I1 AND I2 AND NOT I4) OR (I3 AND NOT I4) ) AND (NOT '\n 'P3) THEN\\n'\n '       P1:=0;\\n'\n '       P2:=0;\\n'\n '       P3:=1;\\n'\n '       STABLE:=0;\\n'\n '   END_IF;\\n'\n '   (*T2*)\\n'\n '   IF (P3) AND ( (I4 AND NOT I1 AND NOT I2) OR (I4 AND NOT I3) ) AND (NOT P1 '\n 'AND NOT P2) THEN\\n'\n '       P3:=0;\\n'\n '       P1:=1;\\n'\n '       P2:=1;\\n'\n '       STABLE:=0;\\n'\n '   END_IF;\\n'\n 'END_WHILE;\\n')\n"
     ]
    }
   ],
   "source": [
    "pprint.pprint(expected)"
   ]
  },
  {
   "cell_type": "code",
   "execution_count": 10,
   "metadata": {},
   "outputs": [],
   "source": [
    "assert(out_str == expected)"
   ]
  },
  {
   "source": [
    "### Output Definition"
   ],
   "cell_type": "markdown",
   "metadata": {}
  },
  {
   "cell_type": "code",
   "execution_count": 11,
   "metadata": {},
   "outputs": [],
   "source": [
    "# Json input\n",
    "input_str= \"\"\"\n",
    "{\n",
    "    \"PS2\": [\n",
    "        [\n",
    "            [\"RP_AL1_ST_CLAMP\"], [\"AL1_ST_GRAB\"]\n",
    "        ],\n",
    "        \"Product gets withing graber range\"\n",
    "    ],\n",
    "    \"PS4\": [\n",
    "        [\n",
    "            [\"RP_AL1_ST_CLAMP\"], [\"AL1_ST_GRAB\"]\n",
    "        ],\n",
    "        [\"AL1_ST_Z_SET:=750\"],\n",
    "        \"Move grabber down to pick up product\"\n",
    "    ],\n",
    "    \"PSE0\": [\n",
    "        [\n",
    "            [\"AL1_ST_GRAB\"], [\"AL1_EMIT\", \"RC_AL1_ST\"]\n",
    "        ],\n",
    "        \"New box arrived, stop conveyor\"\n",
    "    ],\n",
    "    \"initial\": [\"PS2\", \"PSE0\"]\n",
    "    \n",
    "}\n",
    "\"\"\""
   ]
  },
  {
   "cell_type": "code",
   "execution_count": 12,
   "metadata": {},
   "outputs": [],
   "source": [
    "# Expected output\n",
    "expected= \"(*AL1_ST_GRAB*)\\n\" + \\\n",
    "            \"IF PSE0 THEN\\n\" + \\\n",
    "            \"   AL1_ST_GRAB:=1;\\n\" + \\\n",
    "            \"END_IF;\\n\" + \\\n",
    "            \"(*RP_AL1_ST_CLAMP*)\\n\" + \\\n",
    "            \"IF PS2 OR PS4 THEN\\n\" + \\\n",
    "            \"   RP_AL1_ST_CLAMP:=1;\\n\" + \\\n",
    "            \"END_IF;\\n\" + \\\n",
    "            \"(*AL1_EMIT*)\\n\" + \\\n",
    "            \"IF PSE0 THEN\\n\" + \\\n",
    "            \"   AL1_EMIT:=0;\\n\" + \\\n",
    "            \"END_IF;\\n\" + \\\n",
    "            \"(*AL1_ST_GRAB*)\\n\" + \\\n",
    "            \"IF PS2 OR PS4 THEN\\n\" + \\\n",
    "            \"   AL1_ST_GRAB:=0;\\n\" + \\\n",
    "            \"END_IF;\\n\" + \\\n",
    "            \"(*RC_AL1_ST*)\\n\" + \\\n",
    "            \"IF PSE0 THEN\\n\" + \\\n",
    "            \"   RC_AL1_ST:=0;\\n\" + \\\n",
    "            \"END_IF;\\n\" + \\\n",
    "            \"(*AL1_ST_Z_SET*)\\n\" + \\\n",
    "            \"IF PS4 THEN\\n\" + \\\n",
    "            \"   AL1_ST_Z_SET:=750;\\n\" + \\\n",
    "            \"END_IF;\\n\" "
   ]
  },
  {
   "cell_type": "code",
   "execution_count": 13,
   "metadata": {},
   "outputs": [],
   "source": [
    "# Convert Json string to python dictionary\n",
    "in_dict= json.loads(input_str, object_pairs_hook=OrderedDict)\n"
   ]
  },
  {
   "cell_type": "code",
   "execution_count": 14,
   "metadata": {},
   "outputs": [
    {
     "output_type": "execute_result",
     "data": {
      "text/plain": [
       "OrderedDict([('PS2',\n",
       "              [[['RP_AL1_ST_CLAMP'], ['AL1_ST_GRAB']],\n",
       "               'Product gets withing graber range']),\n",
       "             ('PS4',\n",
       "              [[['RP_AL1_ST_CLAMP'], ['AL1_ST_GRAB']],\n",
       "               ['AL1_ST_Z_SET:=750'],\n",
       "               'Move grabber down to pick up product']),\n",
       "             ('PSE0',\n",
       "              [[['AL1_ST_GRAB'], ['AL1_EMIT', 'RC_AL1_ST']],\n",
       "               'New box arrived, stop conveyor']),\n",
       "             ('initial', ['PS2', 'PSE0'])])"
      ]
     },
     "metadata": {},
     "execution_count": 14
    }
   ],
   "source": [
    "in_dict"
   ]
  },
  {
   "cell_type": "code",
   "execution_count": 15,
   "metadata": {},
   "outputs": [],
   "source": [
    "# Get set of boolean outputs\n",
    "output_set= set()\n",
    "\n",
    "for key in list(in_dict):\n",
    "    if not key == \"initial\":\n",
    "        for output in in_dict[key][0][0]:\n",
    "            output_set.add(output)\n",
    "        for output in in_dict[key][0][1]:\n",
    "            output_set.add(output)\n"
   ]
  },
  {
   "cell_type": "code",
   "execution_count": 16,
   "metadata": {},
   "outputs": [],
   "source": [
    "# Sort alphabetically\n",
    "output_set= sorted(output_set)"
   ]
  },
  {
   "cell_type": "code",
   "execution_count": 17,
   "metadata": {},
   "outputs": [
    {
     "output_type": "stream",
     "name": "stdout",
     "text": [
      "['AL1_EMIT', 'AL1_ST_GRAB', 'RC_AL1_ST', 'RP_AL1_ST_CLAMP']\n"
     ]
    }
   ],
   "source": [
    "print(output_set)"
   ]
  },
  {
   "cell_type": "code",
   "execution_count": 18,
   "metadata": {},
   "outputs": [],
   "source": [
    "# Collate list of places for which each output is set/reset\n",
    "output_dict= OrderedDict()\n",
    "\n",
    "for output in output_set:\n",
    "    # Initialize list of places for which output is set/reset\n",
    "    output_dict[output]= [[],[]]\n",
    "\n",
    "    for key in list(in_dict):\n",
    "        # Add places for which output is set\n",
    "        if output in in_dict[key][0][0]:\n",
    "            output_dict[output][0].append(key)\n",
    "\n",
    "        # Add places for which output is reset\n",
    "        if output in in_dict[key][0][1]:\n",
    "            output_dict[output][1].append(key)\n"
   ]
  },
  {
   "cell_type": "code",
   "execution_count": 19,
   "metadata": {},
   "outputs": [
    {
     "output_type": "stream",
     "name": "stdout",
     "text": [
      "OrderedDict([('AL1_EMIT', [[], ['PSE0']]), ('AL1_ST_GRAB', [['PSE0'], ['PS2', 'PS4']]), ('RC_AL1_ST', [[], ['PSE0']]), ('RP_AL1_ST_CLAMP', [['PS2', 'PS4'], []])])\n"
     ]
    }
   ],
   "source": [
    "print(output_dict)"
   ]
  },
  {
   "cell_type": "code",
   "execution_count": 20,
   "metadata": {},
   "outputs": [],
   "source": [
    "# Generate output string\n",
    "set_output_str= \"\"\n",
    "reset_output_str= \"\"\n",
    "\n",
    "# Loop through output keys\n",
    "for key in list(output_dict):\n",
    "    output= output_dict[key]\n",
    "\n",
    "    # If the output is set at at least one place\n",
    "    if len(output[0]) > 0:\n",
    "        # Get set places\n",
    "        set_output_str= set_output_str + \"(*\" +   key + \"*)\\n\"\n",
    "        set_output_str= set_output_str + \"IF \"\n",
    "        for idx_set,place_set in enumerate(output[0]):\n",
    "            # Not last item\n",
    "            if idx_set < len(output[0])-1:\n",
    "                set_output_str= set_output_str + output[0][idx_set] + \" OR \"\n",
    "            # Last Item\n",
    "            else:\n",
    "                set_output_str= set_output_str + output[0][idx_set] + \" THEN\\n\"\n",
    "            \n",
    "        set_output_str= set_output_str + \"   \" + key + \":=1;\\n\" + \"END_IF;\\n\"\n",
    "\n",
    "    \n",
    "    # If output is reset at at least 1 place\n",
    "    if len(output[1]) > 0:\n",
    "        # Get reset places\n",
    "        reset_output_str= reset_output_str + \"(*\" +   key + \"*)\\n\"\n",
    "        reset_output_str= reset_output_str + \"IF \" \n",
    "        for idx_reset,place_reset in enumerate(output[1]):\n",
    "            # Not last item\n",
    "            if idx_reset < len(output[1])-1:\n",
    "                reset_output_str= reset_output_str + output[1][idx_reset] + \" OR \"\n",
    "            # Last Item\n",
    "            else:\n",
    "                reset_output_str= reset_output_str + output[1][idx_reset] + \" THEN\\n\"\n",
    "            \n",
    "        reset_output_str= reset_output_str + \"   \" + key + \":=0;\\n\" + \"END_IF;\\n\"\n",
    "\n"
   ]
  },
  {
   "source": [
    "### Non-boolean outputs"
   ],
   "cell_type": "markdown",
   "metadata": {}
  },
  {
   "cell_type": "code",
   "execution_count": 21,
   "metadata": {},
   "outputs": [],
   "source": [
    "# Non-boolean outputs\n",
    "# Get dictionary of outputs, the places that set them, and their assigned values\n",
    "output_dict= dict()\n",
    "\n",
    "for key in list(in_dict):\n",
    "    if not key == \"initial\":\n",
    "        # Check if exists\n",
    "        if in_dict[key][1] and isinstance(in_dict[key][1], list):\n",
    "            # Get string\n",
    "            val= in_dict[key][1][0]\n",
    "            # Split string on :=\n",
    "            output_name, aa, output_val= val.partition(\":=\") \n",
    "            output_dict[output_name]= [key, output_val]\n"
   ]
  },
  {
   "cell_type": "code",
   "execution_count": 22,
   "metadata": {},
   "outputs": [
    {
     "output_type": "execute_result",
     "data": {
      "text/plain": [
       "{'AL1_ST_Z_SET': ['PS4', '750']}"
      ]
     },
     "metadata": {},
     "execution_count": 22
    }
   ],
   "source": [
    "output_dict"
   ]
  },
  {
   "cell_type": "code",
   "execution_count": 23,
   "metadata": {},
   "outputs": [],
   "source": [
    "nb_output_str= \"\""
   ]
  },
  {
   "cell_type": "code",
   "execution_count": 24,
   "metadata": {},
   "outputs": [],
   "source": [
    "# Compose string to set outputs\n",
    "for key in list(output_dict):\n",
    "    nb_output_str= nb_output_str + \"(*\" + key + \"*)\\n\" + \\\n",
    "        \"IF \" + output_dict[key][0] + \" THEN\\n\" + \\\n",
    "        \"   \" + key + \":=\" + output_dict[key][1] + \";\\n\" + \\\n",
    "        \"END_IF;\\n\""
   ]
  },
  {
   "cell_type": "code",
   "execution_count": 25,
   "metadata": {},
   "outputs": [
    {
     "output_type": "execute_result",
     "data": {
      "text/plain": [
       "'(*AL1_ST_Z_SET*)\\nIF PS4 THEN\\n   AL1_ST_Z_SET:=750;\\nEND_IF;\\n'"
      ]
     },
     "metadata": {},
     "execution_count": 25
    }
   ],
   "source": [
    "nb_output_str"
   ]
  },
  {
   "cell_type": "code",
   "execution_count": 26,
   "metadata": {},
   "outputs": [],
   "source": [
    "out_str= set_output_str + reset_output_str  + nb_output_str"
   ]
  },
  {
   "cell_type": "code",
   "execution_count": 27,
   "metadata": {},
   "outputs": [
    {
     "output_type": "stream",
     "name": "stdout",
     "text": [
      "('(*AL1_ST_GRAB*)\\n'\n 'IF PSE0 THEN\\n'\n '   AL1_ST_GRAB:=1;\\n'\n 'END_IF;\\n'\n '(*RP_AL1_ST_CLAMP*)\\n'\n 'IF PS2 OR PS4 THEN\\n'\n '   RP_AL1_ST_CLAMP:=1;\\n'\n 'END_IF;\\n'\n '(*AL1_EMIT*)\\n'\n 'IF PSE0 THEN\\n'\n '   AL1_EMIT:=0;\\n'\n 'END_IF;\\n'\n '(*AL1_ST_GRAB*)\\n'\n 'IF PS2 OR PS4 THEN\\n'\n '   AL1_ST_GRAB:=0;\\n'\n 'END_IF;\\n'\n '(*RC_AL1_ST*)\\n'\n 'IF PSE0 THEN\\n'\n '   RC_AL1_ST:=0;\\n'\n 'END_IF;\\n'\n '(*AL1_ST_Z_SET*)\\n'\n 'IF PS4 THEN\\n'\n '   AL1_ST_Z_SET:=750;\\n'\n 'END_IF;\\n')\n"
     ]
    }
   ],
   "source": [
    "pprint.pprint(out_str)"
   ]
  },
  {
   "cell_type": "code",
   "execution_count": 28,
   "metadata": {},
   "outputs": [
    {
     "output_type": "stream",
     "name": "stdout",
     "text": [
      "('(*AL1_ST_GRAB*)\\n'\n 'IF PSE0 THEN\\n'\n '   AL1_ST_GRAB:=1;\\n'\n 'END_IF;\\n'\n '(*RP_AL1_ST_CLAMP*)\\n'\n 'IF PS2 OR PS4 THEN\\n'\n '   RP_AL1_ST_CLAMP:=1;\\n'\n 'END_IF;\\n'\n '(*AL1_EMIT*)\\n'\n 'IF PSE0 THEN\\n'\n '   AL1_EMIT:=0;\\n'\n 'END_IF;\\n'\n '(*AL1_ST_GRAB*)\\n'\n 'IF PS2 OR PS4 THEN\\n'\n '   AL1_ST_GRAB:=0;\\n'\n 'END_IF;\\n'\n '(*RC_AL1_ST*)\\n'\n 'IF PSE0 THEN\\n'\n '   RC_AL1_ST:=0;\\n'\n 'END_IF;\\n'\n '(*AL1_ST_Z_SET*)\\n'\n 'IF PS4 THEN\\n'\n '   AL1_ST_Z_SET:=750;\\n'\n 'END_IF;\\n')\n"
     ]
    }
   ],
   "source": [
    "pprint.pprint(expected)"
   ]
  },
  {
   "cell_type": "code",
   "execution_count": 29,
   "metadata": {},
   "outputs": [],
   "source": [
    "assert (out_str == expected)"
   ]
  },
  {
   "source": [
    "### Internal variable Definition"
   ],
   "cell_type": "markdown",
   "metadata": {}
  },
  {
   "cell_type": "code",
   "execution_count": 2,
   "metadata": {},
   "outputs": [],
   "source": [
    "#Json input\n",
    "input_str= r\"\"\"\n",
    "{\n",
    "    \"timer_P1\": [\n",
    "        [\n",
    "            \"MODULE\",\n",
    "            {\n",
    "                \"Q\": \"boolean\",\n",
    "                \"ET\": [\n",
    "                    \"{\\\"zero\\\", \\\"half\\\", \\\"full\\\"}\",\n",
    "                    \"zero\",\n",
    "                    \"{\\\"zero\\\", \\\"half\\\", \\\"full\\\"}\"\n",
    "                ]\n",
    "            }\n",
    "        ],\n",
    "        [\n",
    "            \"TON\",\n",
    "            \"timer_P1(IN:= P1, PT:= T#100ms)\"\n",
    "        ]\n",
    "    ],\n",
    "    \"count\": [\n",
    "        [\n",
    "            \"0..10\",\n",
    "            0,\n",
    "            \"{0, 3, 7, 10}\"\n",
    "        ],\n",
    "        [\n",
    "            \"INT\",\n",
    "            \"count:=0\"\n",
    "        ]\n",
    "    ],\n",
    "    \"control1\": [\n",
    "        [\n",
    "            \"boolean\",\n",
    "            \"{TRUE, FALSE}\",\n",
    "            \"{TRUE, FALSE}\"\n",
    "        ],\n",
    "        [\n",
    "            \"BOOL\",\n",
    "            \"control1:=0\"\n",
    "        ]\n",
    "    ]\n",
    "}\n",
    "\"\"\""
   ]
  },
  {
   "cell_type": "code",
   "execution_count": 3,
   "metadata": {},
   "outputs": [],
   "source": [
    "# Expected NuSMV\n",
    "expected= \"timer_P1(IN:= P1, PT:= T#100ms);\\n\" +\\\n",
    "    \"count:=0;\\n\" +\\\n",
    "    \"control1:=0;\\n\" "
   ]
  },
  {
   "cell_type": "code",
   "execution_count": 4,
   "metadata": {},
   "outputs": [],
   "source": [
    "# Convert Json string to python dictionary\n",
    "in_dict= json.loads(input_str, object_pairs_hook=OrderedDict)"
   ]
  },
  {
   "cell_type": "code",
   "execution_count": 5,
   "metadata": {},
   "outputs": [
    {
     "output_type": "execute_result",
     "data": {
      "text/plain": [
       "OrderedDict([('timer_P1',\n",
       "              [['MODULE',\n",
       "                OrderedDict([('Q', 'boolean'),\n",
       "                             ('ET',\n",
       "                              ['{\"zero\", \"half\", \"full\"}',\n",
       "                               'zero',\n",
       "                               '{\"zero\", \"half\", \"full\"}'])])],\n",
       "               ['TON', 'timer_P1(IN:= P1, PT:= T#100ms)']]),\n",
       "             ('count', [['0..10', 0, '{0, 3, 7, 10}'], ['INT', 'count:=0']]),\n",
       "             ('control1',\n",
       "              [['boolean', '{TRUE, FALSE}', '{TRUE, FALSE}'],\n",
       "               ['BOOL', 'control1:=0']])])"
      ]
     },
     "metadata": {},
     "execution_count": 5
    }
   ],
   "source": [
    "in_dict"
   ]
  },
  {
   "cell_type": "code",
   "execution_count": 11,
   "metadata": {},
   "outputs": [],
   "source": [
    "out_str= \"\""
   ]
  },
  {
   "cell_type": "code",
   "execution_count": 12,
   "metadata": {},
   "outputs": [],
   "source": [
    "try:\n",
    "    # Loop through elements\n",
    "    for key in list(in_dict):\n",
    "        out_str += \"{0};\\n\".format(in_dict[key][1][1])\n",
    "except:\n",
    "    pass\n"
   ]
  },
  {
   "cell_type": "code",
   "execution_count": 13,
   "metadata": {},
   "outputs": [
    {
     "output_type": "execute_result",
     "data": {
      "text/plain": [
       "'timer_P1(IN:= P1, PT:= T#100ms);\\ncount:=0;\\ncontrol1:=0;\\n'"
      ]
     },
     "metadata": {},
     "execution_count": 13
    }
   ],
   "source": [
    "out_str"
   ]
  },
  {
   "cell_type": "code",
   "execution_count": 14,
   "metadata": {},
   "outputs": [],
   "source": [
    "assert expected == out_str"
   ]
  },
  {
   "cell_type": "code",
   "execution_count": null,
   "metadata": {},
   "outputs": [],
   "source": []
  }
 ]
}
{
 "metadata": {
  "language_info": {
   "codemirror_mode": {
    "name": "ipython",
    "version": 3
   },
   "file_extension": ".py",
   "mimetype": "text/x-python",
   "name": "python",
   "nbconvert_exporter": "python",
   "pygments_lexer": "ipython3",
   "version": "3.8.5-final"
  },
  "orig_nbformat": 2,
  "kernelspec": {
   "name": "python38564biteds2020condaee33f8e6fe174929adef1f5db772c60a",
   "display_name": "Python 3.8.5 64-bit ('EDS2020': conda)"
  }
 },
 "nbformat": 4,
 "nbformat_minor": 2,
 "cells": [
  {
   "cell_type": "code",
   "execution_count": 1,
   "metadata": {},
   "outputs": [
    {
     "output_type": "error",
     "ename": "Error",
     "evalue": "Jupyter cannot be started. Error attempting to locate jupyter: Data Science libraries jupyter and notebook are not installed in interpreter Python 3.9.0 64-bit.",
     "traceback": [
      "Error: Jupyter cannot be started. Error attempting to locate jupyter: Data Science libraries jupyter and notebook are not installed in interpreter Python 3.9.0 64-bit.",
      "at w.startServer (c:\\Users\\fr33z\\.vscode\\extensions\\ms-toolsai.jupyter-2020.11.372831992\\out\\client\\extension.js:49:383136)",
      "at processTicksAndRejections (internal/process/task_queues.js:94:5)",
      "at async w.createServer (c:\\Users\\fr33z\\.vscode\\extensions\\ms-toolsai.jupyter-2020.11.372831992\\out\\client\\extension.js:49:382434)",
      "at async connect (c:\\Users\\fr33z\\.vscode\\extensions\\ms-toolsai.jupyter-2020.11.372831992\\out\\client\\extension.js:49:507754)",
      "at async f.ensureConnectionAndNotebookImpl (c:\\Users\\fr33z\\.vscode\\extensions\\ms-toolsai.jupyter-2020.11.372831992\\out\\client\\extension.js:32:569764)",
      "at async f.ensureConnectionAndNotebook (c:\\Users\\fr33z\\.vscode\\extensions\\ms-toolsai.jupyter-2020.11.372831992\\out\\client\\extension.js:32:568228)",
      "at async f.clearResult (c:\\Users\\fr33z\\.vscode\\extensions\\ms-toolsai.jupyter-2020.11.372831992\\out\\client\\extension.js:32:564008)",
      "at async f.reexecuteCell (c:\\Users\\fr33z\\.vscode\\extensions\\ms-toolsai.jupyter-2020.11.372831992\\out\\client\\extension.js:9:170425)",
      "at async f.reexecuteCells (c:\\Users\\fr33z\\.vscode\\extensions\\ms-toolsai.jupyter-2020.11.372831992\\out\\client\\extension.js:9:166755)"
     ]
    }
   ],
   "source": [
    "# Imports\n",
    "import json\n",
    "from collections import OrderedDict"
   ]
  },
  {
   "source": [
    "## Definitions"
   ],
   "cell_type": "markdown",
   "metadata": {}
  },
  {
   "source": [
    "### Transitions Definition"
   ],
   "cell_type": "markdown",
   "metadata": {}
  },
  {
   "cell_type": "code",
   "execution_count": 36,
   "metadata": {},
   "outputs": [],
   "source": [
    "# Json input\n",
    "input_str= \"\"\"\n",
    "{\n",
    "    \"T1\":[\n",
    "        [\"P1\", \"P2\"],\n",
    "        [\n",
    "            [ \"I1 & I2 & !I4\" ],\n",
    "            [ [\"I4\"], [\"I3\"] ]\n",
    "        ],\n",
    "        [\"P3\"],\n",
    "        \"T1 comment\"\n",
    "    ],\n",
    "    \"T2\":[\n",
    "        [\"P3\"],\n",
    "        [\n",
    "            [ [\"I4\"], [\"I1\", \"I2\"] ],\n",
    "            [ \"I4 & !I3\" ]\n",
    "        ],\n",
    "        [\"P1\", \"P2\"],\n",
    "        \"T2 comment\"\n",
    "    ]\n",
    "}\n",
    "\"\"\""
   ]
  },
  {
   "cell_type": "code",
   "execution_count": 37,
   "metadata": {},
   "outputs": [],
   "source": [
    "# Convert Json string to python dictionary\n",
    "in_dict= json.loads(input_str, object_pairs_hook=OrderedDict)"
   ]
  },
  {
   "cell_type": "code",
   "execution_count": 38,
   "metadata": {},
   "outputs": [],
   "source": [
    "# Expected NuSMV\n",
    "expected= \"T1:= (P1 & P2) & ( (I1 & I2 & !I4) | (I4 & !I3) ) & (!P3);\\n\" + \\\n",
    "\"T2:= (P3) & ( (I4 & !I1 & !I2) | (I4 & !I3) ) & (!P1 & !P2);\\n\"  "
   ]
  },
  {
   "cell_type": "code",
   "execution_count": 44,
   "metadata": {},
   "outputs": [],
   "source": [
    "out_str= \"\""
   ]
  },
  {
   "cell_type": "code",
   "execution_count": 45,
   "metadata": {},
   "outputs": [],
   "source": [
    "value= in_dict[\"T1\"]"
   ]
  },
  {
   "cell_type": "code",
   "execution_count": 46,
   "metadata": {},
   "outputs": [
    {
     "output_type": "execute_result",
     "data": {
      "text/plain": [
       "['I1 & I2 & !I4']"
      ]
     },
     "metadata": {},
     "execution_count": 46
    }
   ],
   "source": [
    "value[1][0]"
   ]
  },
  {
   "cell_type": "code",
   "execution_count": 47,
   "metadata": {},
   "outputs": [],
   "source": [
    "for key in iter(in_dict):\n",
    "\n",
    "    # Get value of current transition\n",
    "    value= in_dict[key]\n",
    "\n",
    "    # Pre-places\n",
    "    pre= value[0]\n",
    "    # Pre-places condition\n",
    "    pre_str= \"(\"\n",
    "    for idx,item in enumerate(pre):\n",
    "        # Not last element\n",
    "        if idx < len(pre)-1:\n",
    "            pre_str= pre_str + item + \" & \"\n",
    "        else:\n",
    "            pre_str= pre_str + item\n",
    "\n",
    "    pre_str= pre_str + \")\"\n",
    "\n",
    "    # Inputs\n",
    "    req_inputs= value[1]\n",
    "    # Required inputs condition\n",
    "    req_str= \"( \"\n",
    "    for idx_out,item in enumerate(req_inputs):\n",
    "\n",
    "        # Temp string opening brace\n",
    "        temp_str= \"(\"\n",
    "\n",
    "        # Check if condition is specified as a raw string\n",
    "        if isinstance(item[0], str):\n",
    "            temp_str= temp_str + item[0]\n",
    "        \n",
    "        else:\n",
    "            high_ins= item[0]\n",
    "            low_ins= item[1]\n",
    "            # temp inputs\n",
    "            for idx_high,high_in in enumerate(high_ins):\n",
    "                # Not last item\n",
    "                if idx_high < len(high_ins)-1:\n",
    "                    temp_str= temp_str + high_in + \" & \"\n",
    "                # If last item\n",
    "                else:\n",
    "                    # If there are no low outputs required\n",
    "                    if len(low_ins) < 1:\n",
    "                        temp_str= temp_str + high_in\n",
    "                    else:\n",
    "                        temp_str= temp_str + high_in + \" & \"\n",
    "            \n",
    "            # Low inputs\n",
    "            for idx_low,low_in in enumerate(low_ins):\n",
    "                # Not last item\n",
    "                if idx_low < len(low_ins)-1:\n",
    "                    temp_str= temp_str + \"!\" + low_in + \" & \"\n",
    "                # If last item\n",
    "                else:\n",
    "                    temp_str= temp_str + \"!\" + low_in\n",
    "\n",
    "        # Temp string closing brace\n",
    "        temp_str= temp_str + \")\"   \n",
    "\n",
    "        # If not last item, add an OR operator\n",
    "        if idx_out < (len(req_inputs)-1):\n",
    "            temp_str= temp_str + \" | \"\n",
    "\n",
    "        # Append Temp string to req_str\n",
    "        req_str= req_str + temp_str\n",
    "\n",
    "    # req_str closin brace\n",
    "    req_str= req_str + \" )\"\n",
    "\n",
    "    # Post-places\n",
    "    post= value[2]\n",
    "    # Post-places condition\n",
    "    post_str= \"(\"\n",
    "    for idx_post,item_post in enumerate(post):\n",
    "        # Not last element\n",
    "        if idx_post < len(post)-1:\n",
    "            post_str= post_str + \"!\" + item_post + \" & \"\n",
    "        else:\n",
    "            post_str= post_str + \"!\" + item_post\n",
    "\n",
    "    post_str= post_str + \")\"\n",
    "\n",
    "    # Append transition name to output\n",
    "    out_str= out_str + key + \":= \"\n",
    "    # Append pre-place condition\n",
    "    out_str= out_str + pre_str + \" & \"\n",
    "    # Append inputs condition\n",
    "    out_str= out_str + req_str + \" & \"\n",
    "    # Append post-place condition\n",
    "    out_str= out_str + post_str + \";\\n\""
   ]
  },
  {
   "cell_type": "code",
   "execution_count": 2,
   "metadata": {},
   "outputs": [
    {
     "output_type": "error",
     "ename": "NameError",
     "evalue": "name 'out_str' is not defined",
     "traceback": [
      "\u001b[0;31m---------------------------------------------------------------------------\u001b[0m",
      "\u001b[0;31mNameError\u001b[0m                                 Traceback (most recent call last)",
      "\u001b[0;32m<ipython-input-2-2c8495290ca3>\u001b[0m in \u001b[0;36m<module>\u001b[0;34m\u001b[0m\n\u001b[0;32m----> 1\u001b[0;31m \u001b[0mpprint\u001b[0m\u001b[0;34m.\u001b[0m\u001b[0mpprint\u001b[0m\u001b[0;34m(\u001b[0m\u001b[0mout_str\u001b[0m\u001b[0;34m)\u001b[0m\u001b[0;34m\u001b[0m\u001b[0;34m\u001b[0m\u001b[0m\n\u001b[0m",
      "\u001b[0;31mNameError\u001b[0m: name 'out_str' is not defined"
     ]
    }
   ],
   "source": [
    "out_str"
   ]
  },
  {
   "cell_type": "code",
   "execution_count": 49,
   "metadata": {},
   "outputs": [
    {
     "output_type": "execute_result",
     "data": {
      "text/plain": [
       "'T1:= (P1 & P2) & ( (I1 & I2 & !I4) | (I4 & !I3) ) & (!P3);\\nT2:= (P3) & ( (I4 & !I1 & !I2) | (I4 & !I3) ) & (!P1 & !P2);\\n'"
      ]
     },
     "metadata": {},
     "execution_count": 49
    }
   ],
   "source": [
    "expected"
   ]
  },
  {
   "cell_type": "code",
   "execution_count": 50,
   "metadata": {},
   "outputs": [],
   "source": [
    "assert(out_str == expected)"
   ]
  },
  {
   "source": [
    "### Stability Definition"
   ],
   "cell_type": "markdown",
   "metadata": {}
  },
  {
   "cell_type": "code",
   "execution_count": 2,
   "metadata": {},
   "outputs": [],
   "source": [
    "# Json input\n",
    "input_str= \"\"\"\n",
    "{\n",
    "    \"T1\":[\n",
    "        [\"P1\", \"P2\"],\n",
    "        [\n",
    "            [ [\"I1\", \"I2\"], [\"I4\"] ],\n",
    "            [ [\"I3\"], [\"I4\"] ]\n",
    "        ],\n",
    "        [\"P3\"]\n",
    "    ],\n",
    "    \"T2\":[\n",
    "        [\"P3\"],\n",
    "        [\n",
    "            [ [\"I4\"], [\"I1\", \"I2\"] ],\n",
    "            [ [\"I4\"], [\"I3\"] ]\n",
    "        ],\n",
    "        [\"P1\", \"P2\"]\n",
    "    ]\n",
    "}\n",
    "\"\"\""
   ]
  },
  {
   "cell_type": "code",
   "execution_count": 3,
   "metadata": {},
   "outputs": [],
   "source": [
    "# Convert Json string to python dictionary\n",
    "input_dict= json.loads(input_str, object_pairs_hook=OrderedDict)"
   ]
  },
  {
   "cell_type": "code",
   "execution_count": 49,
   "metadata": {},
   "outputs": [],
   "source": [
    "# Expected NuSMV\n",
    "expected= \"stab:= !(T1 | T2);\\n\""
   ]
  },
  {
   "cell_type": "code",
   "execution_count": 46,
   "metadata": {},
   "outputs": [],
   "source": [
    "def stab_definition(in_dict):\n",
    "    \"\"\"Define stability checking condition in NuSMV\n",
    "\n",
    "    Parameters:\n",
    "    ----------\n",
    "    in_dict: dict\n",
    "\n",
    "    Returns:\n",
    "    -------\n",
    "    out_str: string\n",
    "    \"\"\"\n",
    "    out_str=\"stab:= !(\"\n",
    "\n",
    "    keys= list(in_dict)\n",
    "    for idx,key in enumerate(keys):\n",
    "        # If not last item\n",
    "        if idx < len(keys)-1:\n",
    "            # Append transition name and add OR\n",
    "            out_str= out_str + key + \" | \"\n",
    "        else:\n",
    "            # Append transition name\n",
    "            out_str= out_str + key\n",
    "\n",
    "    # Add closing brace and semicolon\n",
    "    out_str= out_str + \");\\n\"\n",
    "\n",
    "    return out_str\n"
   ]
  },
  {
   "cell_type": "code",
   "execution_count": 47,
   "metadata": {},
   "outputs": [
    {
     "output_type": "execute_result",
     "data": {
      "text/plain": [
       "'stab:= !(T1 | T2);\\n'"
      ]
     },
     "metadata": {},
     "execution_count": 47
    }
   ],
   "source": [
    "stab_definition(input_dict)"
   ]
  },
  {
   "cell_type": "code",
   "execution_count": 50,
   "metadata": {},
   "outputs": [
    {
     "output_type": "execute_result",
     "data": {
      "text/plain": [
       "'stab:= !(T1 | T2);\\n'"
      ]
     },
     "metadata": {},
     "execution_count": 50
    }
   ],
   "source": [
    "expected"
   ]
  },
  {
   "source": [
    "### Output Definition"
   ],
   "cell_type": "markdown",
   "metadata": {}
  },
  {
   "cell_type": "code",
   "execution_count": 33,
   "metadata": {},
   "outputs": [],
   "source": [
    "# Json input\n",
    "input_str= \"\"\"\n",
    "{\n",
    "    \"PS2\": [\n",
    "        [\n",
    "            [\"RP_AL1_ST_CLAMP\"], [\"AL1_ST_GRAB\"]\n",
    "        ],\n",
    "        \"Product gets withing graber range\"\n",
    "    ],\n",
    "    \"PS4\": [\n",
    "        [\n",
    "            [\"RP_AL1_ST_CLAMP\"], [\"AL1_ST_GRAB\"]\n",
    "        ],\n",
    "        [\"AL1_ST_Z_SET:=750\"],\n",
    "        \"Move grabber down to pick up product\"\n",
    "    ],\n",
    "    \"PSE0\": [\n",
    "        [\n",
    "            [\"AL1_ST_GRAB\"], [\"AL1_EMIT\", \"RC_AL1_ST\"]\n",
    "        ],\n",
    "        \"New box arrived, stop conveyor\"\n",
    "    ],\n",
    "    \"initial\": [\"PS2\", \"PSE0\"]\n",
    "    \n",
    "}\n",
    "\"\"\""
   ]
  },
  {
   "cell_type": "code",
   "execution_count": 95,
   "metadata": {},
   "outputs": [],
   "source": [
    "# Expected output\n",
    "expected= \"-- SET\\n\" + \\\n",
    "    \"AL1_EMIT_set:= FALSE;\\n\" + \\\n",
    "    \"AL1_ST_GRAB_set:= PSE0;\\n\" + \\\n",
    "    \"RC_AL1_ST_set:= FALSE;\\n\" + \\\n",
    "    \"RP_AL1_ST_CLAMP_set:= PS2 | PS4;\\n\" + \\\n",
    "    \"-- RESET\\n\" + \\\n",
    "    \"AL1_EMIT_reset:= PSE0;\\n\" + \\\n",
    "    \"AL1_ST_GRAB_reset:= PS2 | PS4;\\n\" + \\\n",
    "    \"RC_AL1_ST_reset:= PSE0;\\n\" + \\\n",
    "    \"RP_AL1_ST_CLAMP_reset:= FALSE;\\n\" + \\\n",
    "    \"-- OUTPUT\\n\" + \\\n",
    "    \"AL1_EMIT:= AL1_EMIT_set & !AL1_EMIT_reset;\\n\" + \\\n",
    "    \"AL1_ST_GRAB:= AL1_ST_GRAB_set & !AL1_ST_GRAB_reset;\\n\" + \\\n",
    "    \"RC_AL1_ST:= RC_AL1_ST_set & !RC_AL1_ST_reset;\\n\" + \\\n",
    "    \"RP_AL1_ST_CLAMP:= RP_AL1_ST_CLAMP_set & !RP_AL1_ST_CLAMP_reset;\\n\" + \\\n",
    "    \"-- Non-Boolean Outputs\\n\" + \\\n",
    "    \"AL1_ST_Z_SET:= case\\n\" + \\\n",
    "    \"   PS4: 750;\\n\" + \\\n",
    "    \"   TRUE: 0;\\n\" + \\\n",
    "    \"esac;\\n\""
   ]
  },
  {
   "cell_type": "code",
   "execution_count": 66,
   "metadata": {},
   "outputs": [],
   "source": [
    "# Convert Json string to python dictionary\n",
    "in_dict= json.loads(input_str, object_pairs_hook=OrderedDict)\n"
   ]
  },
  {
   "cell_type": "code",
   "execution_count": 67,
   "metadata": {},
   "outputs": [
    {
     "output_type": "execute_result",
     "data": {
      "text/plain": [
       "OrderedDict([('PS2',\n",
       "              [[['RP_AL1_ST_CLAMP'], ['AL1_ST_GRAB']],\n",
       "               'Product gets withing graber range']),\n",
       "             ('PS4',\n",
       "              [[['RP_AL1_ST_CLAMP'], ['AL1_ST_GRAB']],\n",
       "               ['AL1_ST_Z_SET:=750'],\n",
       "               'Move grabber down to pick up product']),\n",
       "             ('PSE0',\n",
       "              [[['AL1_ST_GRAB'], ['AL1_EMIT', 'RC_AL1_ST']],\n",
       "               'New box arrived, stop conveyor']),\n",
       "             ('initial', ['PS2', 'PSE0'])])"
      ]
     },
     "metadata": {},
     "execution_count": 67
    }
   ],
   "source": [
    "in_dict"
   ]
  },
  {
   "cell_type": "code",
   "execution_count": 68,
   "metadata": {},
   "outputs": [
    {
     "output_type": "execute_result",
     "data": {
      "text/plain": [
       "[['RP_AL1_ST_CLAMP'], ['AL1_ST_GRAB']]"
      ]
     },
     "metadata": {},
     "execution_count": 68
    }
   ],
   "source": [
    "in_dict[\"PS4\"][0]"
   ]
  },
  {
   "cell_type": "code",
   "execution_count": 69,
   "metadata": {},
   "outputs": [],
   "source": [
    "# Get set of boolean outputs\n",
    "output_set= set()\n",
    "\n",
    "for key in list(in_dict):\n",
    "    if not key == \"initial\":\n",
    "        for output in in_dict[key][0][0]:\n",
    "            output_set.add(output)\n",
    "        for output in in_dict[key][0][1]:\n",
    "            output_set.add(output)\n"
   ]
  },
  {
   "cell_type": "code",
   "execution_count": 70,
   "metadata": {},
   "outputs": [],
   "source": [
    "# Sort alphabetically\n",
    "output_set= sorted(output_set)"
   ]
  },
  {
   "cell_type": "code",
   "execution_count": 71,
   "metadata": {},
   "outputs": [
    {
     "output_type": "stream",
     "name": "stdout",
     "text": [
      "['AL1_EMIT', 'AL1_ST_GRAB', 'RC_AL1_ST', 'RP_AL1_ST_CLAMP']\n"
     ]
    }
   ],
   "source": [
    "print(output_set)"
   ]
  },
  {
   "cell_type": "code",
   "execution_count": 72,
   "metadata": {},
   "outputs": [],
   "source": [
    "# Collate list of places for which each output is set/reset\n",
    "output_dict= OrderedDict()\n",
    "\n",
    "for output in output_set:\n",
    "    # Initialize list of places for which output is set/reset\n",
    "    output_dict[output]= [[],[]]\n",
    "\n",
    "    for key in list(in_dict):\n",
    "        # Add places for which output is set\n",
    "        if output in in_dict[key][0][0]:\n",
    "            output_dict[output][0].append(key)\n",
    "\n",
    "        # Add places for which output is reset\n",
    "        if output in in_dict[key][0][1]:\n",
    "            output_dict[output][1].append(key)\n"
   ]
  },
  {
   "cell_type": "code",
   "execution_count": 73,
   "metadata": {},
   "outputs": [
    {
     "output_type": "stream",
     "name": "stdout",
     "text": [
      "OrderedDict([('AL1_EMIT', [[], ['PSE0']]), ('AL1_ST_GRAB', [['PSE0'], ['PS2', 'PS4']]), ('RC_AL1_ST', [[], ['PSE0']]), ('RP_AL1_ST_CLAMP', [['PS2', 'PS4'], []])])\n"
     ]
    }
   ],
   "source": [
    "print(output_dict)"
   ]
  },
  {
   "cell_type": "code",
   "execution_count": 74,
   "metadata": {},
   "outputs": [],
   "source": [
    "# Generate output string\n",
    "set_output_str= \"-- SET\\n\"\n",
    "reset_output_str= \"-- RESET\\n\"\n",
    "output_str= \"-- OUTPUT\\n\"\n",
    "\n",
    "# Loop through output keys\n",
    "for key in list(output_dict):\n",
    "    output= output_dict[key]\n",
    "\n",
    "    # Get set places\n",
    "    set_output_str= set_output_str +  key + \"_set:= \"\n",
    "    # If the output is set at at least one place\n",
    "    if len(output[0]) > 0:\n",
    "        for idx_set,place_set in enumerate(output[0]):\n",
    "            # Not last item\n",
    "            if idx_set < len(output[0])-1:\n",
    "                set_output_str= set_output_str + output[0][idx_set] + \" | \"\n",
    "            # Last Item\n",
    "            else:\n",
    "                set_output_str= set_output_str + output[0][idx_set] + \";\\n\"\n",
    "    # If output is not set at any place\n",
    "    else:\n",
    "        set_output_str= set_output_str + \"FALSE;\\n\"\n",
    "\n",
    "    # Get reset places\n",
    "    reset_output_str= reset_output_str +  key + \"_reset:= \"\n",
    "    # If output is reset at at least 1 place\n",
    "    if len(output[1]) > 0:\n",
    "        for idx_reset,place_reset in enumerate(output[1]):\n",
    "            # Not last item\n",
    "            if idx_reset < len(output[1])-1:\n",
    "                reset_output_str= reset_output_str + output[1][idx_reset] + \" | \"\n",
    "            # Last Item\n",
    "            else:\n",
    "                reset_output_str= reset_output_str + output[1][idx_reset] + \";\\n\"\n",
    "\n",
    "    # If output is not reset at any place\n",
    "    else:\n",
    "        reset_output_str= reset_output_str + \"FALSE;\\n\"\n",
    "\n",
    "\n",
    "    # Compose output string\n",
    "    output_str= output_str + key + \":= \" + key + \"_set & !\" + key + \"_reset;\\n\" \n"
   ]
  },
  {
   "cell_type": "code",
   "execution_count": 77,
   "metadata": {},
   "outputs": [],
   "source": [
    "out_str= set_output_str + reset_output_str + output_str"
   ]
  },
  {
   "source": [
    "### Non-boolean outputs"
   ],
   "cell_type": "markdown",
   "metadata": {}
  },
  {
   "cell_type": "code",
   "execution_count": 81,
   "metadata": {},
   "outputs": [
    {
     "output_type": "execute_result",
     "data": {
      "text/plain": [
       "OrderedDict([('PS2',\n",
       "              [[['RP_AL1_ST_CLAMP'], ['AL1_ST_GRAB']],\n",
       "               'Product gets withing graber range']),\n",
       "             ('PS4',\n",
       "              [[['RP_AL1_ST_CLAMP'], ['AL1_ST_GRAB']],\n",
       "               ['AL1_ST_Z_SET:=750'],\n",
       "               'Move grabber down to pick up product']),\n",
       "             ('PSE0',\n",
       "              [[['AL1_ST_GRAB'], ['AL1_EMIT', 'RC_AL1_ST']],\n",
       "               'New box arrived, stop conveyor']),\n",
       "             ('initial', ['PS2', 'PSE0'])])"
      ]
     },
     "metadata": {},
     "execution_count": 81
    }
   ],
   "source": [
    "in_dict"
   ]
  },
  {
   "cell_type": "code",
   "execution_count": 85,
   "metadata": {},
   "outputs": [
    {
     "output_type": "execute_result",
     "data": {
      "text/plain": [
       "False"
      ]
     },
     "metadata": {},
     "execution_count": 85
    }
   ],
   "source": [
    "not in_dict[\"PS4\"][1]"
   ]
  },
  {
   "cell_type": "code",
   "execution_count": 92,
   "metadata": {},
   "outputs": [],
   "source": [
    "# Non-boolean outputs\n",
    "# Get dictionary of outputs, the places that set them, and their assigned values\n",
    "output_dict= dict()\n",
    "\n",
    "for key in list(in_dict):\n",
    "    if not key == \"initial\":\n",
    "        # Check if exists\n",
    "        if in_dict[key][1] and isinstance(in_dict[key][1], list):\n",
    "            # Get string\n",
    "            val= in_dict[key][1][0]\n",
    "            # Split string on :=\n",
    "            output_name, aa, output_val= val.partition(\":=\") \n",
    "            output_dict[output_name]= [key, output_val]\n"
   ]
  },
  {
   "cell_type": "code",
   "execution_count": 93,
   "metadata": {},
   "outputs": [
    {
     "output_type": "execute_result",
     "data": {
      "text/plain": [
       "{'AL1_ST_Z_SET': ['PS4', '750']}"
      ]
     },
     "metadata": {},
     "execution_count": 93
    }
   ],
   "source": [
    "output_dict"
   ]
  },
  {
   "cell_type": "code",
   "execution_count": 99,
   "metadata": {},
   "outputs": [],
   "source": [
    "nb_output_str= \"-- Non-Boolean Outputs\\n\""
   ]
  },
  {
   "cell_type": "code",
   "execution_count": 100,
   "metadata": {},
   "outputs": [],
   "source": [
    "# Compose string to set outputs\n",
    "for key in list(output_dict):\n",
    "    nb_output_str= nb_output_str + key + \":= case\\n\" + \\\n",
    "        \"   \" + output_dict[key][0] + \": \" + output_dict[key][1] + \";\\n\" + \\\n",
    "        \"   TRUE: 0;\\n\" + \\\n",
    "        \"esac;\\n\""
   ]
  },
  {
   "cell_type": "code",
   "execution_count": 101,
   "metadata": {},
   "outputs": [
    {
     "output_type": "execute_result",
     "data": {
      "text/plain": [
       "'-- Non-Boolean Outputs\\nAL1_ST_Z_SET:= case\\n   PS4: 750;\\n   TRUE: 0;\\nesac;\\n'"
      ]
     },
     "metadata": {},
     "execution_count": 101
    }
   ],
   "source": [
    "nb_output_str"
   ]
  },
  {
   "cell_type": "code",
   "execution_count": 102,
   "metadata": {},
   "outputs": [],
   "source": [
    "out_str= out_str + nb_output_str"
   ]
  },
  {
   "cell_type": "code",
   "execution_count": 103,
   "metadata": {},
   "outputs": [
    {
     "output_type": "execute_result",
     "data": {
      "text/plain": [
       "'-- SET\\nAL1_EMIT_set:= FALSE;\\nAL1_ST_GRAB_set:= PSE0;\\nRC_AL1_ST_set:= FALSE;\\nRP_AL1_ST_CLAMP_set:= PS2 | PS4;\\n-- RESET\\nAL1_EMIT_reset:= PSE0;\\nAL1_ST_GRAB_reset:= PS2 | PS4;\\nRC_AL1_ST_reset:= PSE0;\\nRP_AL1_ST_CLAMP_reset:= FALSE;\\n-- OUTPUT\\nAL1_EMIT:= AL1_EMIT_set & !AL1_EMIT_reset;\\nAL1_ST_GRAB:= AL1_ST_GRAB_set & !AL1_ST_GRAB_reset;\\nRC_AL1_ST:= RC_AL1_ST_set & !RC_AL1_ST_reset;\\nRP_AL1_ST_CLAMP:= RP_AL1_ST_CLAMP_set & !RP_AL1_ST_CLAMP_reset;\\n-- Non-Boolean Outputs\\nAL1_ST_Z_SET:= case\\n   PS4: 750;\\n   TRUE: 0;\\nesac;\\n'"
      ]
     },
     "metadata": {},
     "execution_count": 103
    }
   ],
   "source": [
    "out_str"
   ]
  },
  {
   "cell_type": "code",
   "execution_count": 104,
   "metadata": {},
   "outputs": [
    {
     "output_type": "execute_result",
     "data": {
      "text/plain": [
       "'-- SET\\nAL1_EMIT_set:= FALSE;\\nAL1_ST_GRAB_set:= PSE0;\\nRC_AL1_ST_set:= FALSE;\\nRP_AL1_ST_CLAMP_set:= PS2 | PS4;\\n-- RESET\\nAL1_EMIT_reset:= PSE0;\\nAL1_ST_GRAB_reset:= PS2 | PS4;\\nRC_AL1_ST_reset:= PSE0;\\nRP_AL1_ST_CLAMP_reset:= FALSE;\\n-- OUTPUT\\nAL1_EMIT:= AL1_EMIT_set & !AL1_EMIT_reset;\\nAL1_ST_GRAB:= AL1_ST_GRAB_set & !AL1_ST_GRAB_reset;\\nRC_AL1_ST:= RC_AL1_ST_set & !RC_AL1_ST_reset;\\nRP_AL1_ST_CLAMP:= RP_AL1_ST_CLAMP_set & !RP_AL1_ST_CLAMP_reset;\\n-- Non-Boolean Outputs\\nAL1_ST_Z_SET:= case\\n   PS4: 750;\\n   TRUE: 0;\\nesac;\\n'"
      ]
     },
     "metadata": {},
     "execution_count": 104
    }
   ],
   "source": [
    "expected"
   ]
  },
  {
   "cell_type": "code",
   "execution_count": 105,
   "metadata": {},
   "outputs": [],
   "source": [
    "assert (out_str == expected)"
   ]
  },
  {
   "source": [],
   "cell_type": "markdown",
   "metadata": {}
  }
 ]
}
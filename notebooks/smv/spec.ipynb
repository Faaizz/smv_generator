{
 "metadata": {
  "language_info": {
   "codemirror_mode": {
    "name": "ipython",
    "version": 3
   },
   "file_extension": ".py",
   "mimetype": "text/x-python",
   "name": "python",
   "nbconvert_exporter": "python",
   "pygments_lexer": "ipython3",
   "version": "3.8.5-final"
  },
  "orig_nbformat": 2,
  "kernelspec": {
   "name": "python38564biteds2020condaee33f8e6fe174929adef1f5db772c60a",
   "display_name": "Python 3.8.5 64-bit ('EDS2020': conda)"
  }
 },
 "nbformat": 4,
 "nbformat_minor": 2,
 "cells": [
  {
   "cell_type": "code",
   "execution_count": 33,
   "metadata": {},
   "outputs": [],
   "source": [
    "from collections import OrderedDict\n",
    "import json\n",
    "import pprint"
   ]
  },
  {
   "cell_type": "code",
   "execution_count": 4,
   "metadata": {},
   "outputs": [],
   "source": [
    "input_str= \"\"\"\n",
    "{\n",
    "    \"manual\": [\n",
    "        \"AG(stab -> EF(P5))\",\n",
    "        \"AG( ((CS_AL1_W < 4) | (CS_AL1_W > 8)) -> AF(!(P5 | P6)) )\"\n",
    "    ]            \n",
    "}\n",
    "\"\"\""
   ]
  },
  {
   "cell_type": "code",
   "execution_count": 5,
   "metadata": {},
   "outputs": [],
   "source": [
    "in_dict= json.loads(input_str, object_pairs_hook= OrderedDict)"
   ]
  },
  {
   "cell_type": "code",
   "execution_count": 17,
   "metadata": {},
   "outputs": [],
   "source": [
    "# Expected NuSMV\n",
    "expected= \"SPEC\\n\" + \\\n",
    "    \"AG(stab -> EF(P5));\\n\" + \\\n",
    "    \"SPEC\\n\" + \\\n",
    "    \"AG( ((CS_AL1_W < 4) | (CS_AL1_W > 8)) -> AF(!(P5 | P6)) );\\n\""
   ]
  },
  {
   "cell_type": "code",
   "execution_count": 18,
   "metadata": {},
   "outputs": [
    {
     "output_type": "execute_result",
     "data": {
      "text/plain": [
       "'SPEC\\nAG(stab -> EF(P5));\\nSPEC\\nAG( ((CS_AL1_W < 4) | (CS_AL1_W > 8)) -> AF(!(P5 | P6)) );\\n'"
      ]
     },
     "metadata": {},
     "execution_count": 18
    }
   ],
   "source": [
    "expected"
   ]
  },
  {
   "cell_type": "code",
   "execution_count": 11,
   "metadata": {},
   "outputs": [],
   "source": [
    "# Output string\n",
    "out_str= \"\""
   ]
  },
  {
   "cell_type": "code",
   "execution_count": 12,
   "metadata": {},
   "outputs": [],
   "source": [
    "# Loop through items\n",
    "for spec in in_dict[\"manual\"]:\n",
    "    out_str= out_str + \"SPEC\\n\" + spec + \";\\n\""
   ]
  },
  {
   "cell_type": "code",
   "execution_count": 16,
   "metadata": {},
   "outputs": [
    {
     "output_type": "execute_result",
     "data": {
      "text/plain": [
       "'SPEC\\nAG(stab -> EF(P5));\\nSPEC\\nAG( ((CS_AL1_W < 4) | (CS_AL1_W > 8)) -> AF(!(P5 | P6)) );\\n'"
      ]
     },
     "metadata": {},
     "execution_count": 16
    }
   ],
   "source": [
    "out_str"
   ]
  },
  {
   "cell_type": "code",
   "execution_count": 19,
   "metadata": {},
   "outputs": [],
   "source": [
    "assert(out_str == expected)"
   ]
  },
  {
   "source": [
    "## Auto Specification"
   ],
   "cell_type": "markdown",
   "metadata": {}
  },
  {
   "cell_type": "code",
   "execution_count": 21,
   "metadata": {},
   "outputs": [],
   "source": [
    "# Json Input\n",
    "input_str= r\"\"\"\n",
    "{\n",
    "    \"places\": {\n",
    "        \"P1\": [\n",
    "            [\n",
    "                [\"OUT1\"], [\"OUT2\"]\n",
    "            ],\n",
    "            \"Initial place\"\n",
    "        ],\n",
    "        \"P2\": [\n",
    "            [\n",
    "                [\"OUT1\"], [\"OUT2\"]\n",
    "            ],\n",
    "            [\"X_SET:= 560\"],\n",
    "            \"Move tool to X position\"\n",
    "        ],\n",
    "        \"STOP\": [\n",
    "            [\n",
    "                [], [\"OUT1\", \"OUT2\"]\n",
    "            ],\n",
    "            [\"X_SET:= 0\"],\n",
    "            \"Stop machining\"\n",
    "        ],\n",
    "        \"initial\": [\"P1\"]\n",
    "    },\n",
    "    \"outputs\": {\n",
    "        \"OUT1\": [\"%QX100.0\"],\n",
    "        \"OUT2\": [\"%QX100.1\"],\n",
    "        \"X_SET\": [\"%QW100\"]\n",
    "    },\n",
    "    \"transitions\": {\n",
    "        \"T1\": [\n",
    "            [\"P1\"],\n",
    "            [\n",
    "                [\n",
    "                    [\"IN1\"], [\"IN2\"]\n",
    "                ]\n",
    "            ],\n",
    "            [\"P2\"]\n",
    "        ],\n",
    "        \"T2\": [\n",
    "            [\"P2\"],\n",
    "            [\n",
    "                [\n",
    "                    \"X_POS= 560\"\n",
    "                ]\n",
    "            ],\n",
    "            [\"STOP\"]\n",
    "        ],\n",
    "        \"T3\": [\n",
    "            [\"STOP\"],\n",
    "            [\n",
    "                [\n",
    "                    [\"START\"], []\n",
    "                ]\n",
    "            ],\n",
    "            [\"P1\"]\n",
    "        ]\n",
    "    },\n",
    "    \"inputs\": {\n",
    "        \"IN1\": [\n",
    "            \"boolean\", \"%IX100.0\"\n",
    "        ],\n",
    "        \"IN2\": [\n",
    "            \"boolean\", \"%IX100.1\"\n",
    "        ],\n",
    "        \"X_POS\": [\n",
    "            [\n",
    "                \"{0, 560}\",\n",
    "                0,\n",
    "                \"{0, 560}\"\n",
    "            ],\n",
    "            \"%IW100\"\n",
    "        ]\n",
    "    },\n",
    "    \"specifications\": {\n",
    "        \"auto\": true,\n",
    "        \"manual\": [\n",
    "            \"AG(EF(STOP))\"\n",
    "        ]\n",
    "    }\n",
    "}\n",
    "\"\"\""
   ]
  },
  {
   "cell_type": "code",
   "execution_count": 22,
   "metadata": {},
   "outputs": [],
   "source": [
    "# Expected NuSMV\n",
    "expected= \"--LIVENESS\\n\" +\\\n",
    "    \"SPEC\\n\" +\\\n",
    "    \"AG(EF(T1));\\n\" +\\\n",
    "    \"SPEC\\n\" +\\\n",
    "    \"AG(EF(T2));\\n\" +\\\n",
    "    \"SPEC\\n\" +\\\n",
    "    \"AG(EF(T3));\\n\" +\\\n",
    "    \"--DEADLOCK-FREENESS\\n\" +\\\n",
    "    \"SPEC\\n\" +\\\n",
    "    \"AG(EF( T1 | T2 | T3 ));\\n\" +\\\n",
    "    \"--NO DEAD TRANSITION\\n\" +\\\n",
    "    \"SPEC\\n\" +\\\n",
    "    \"EF(T1);\\n\" +\\\n",
    "    \"SPEC\\n\" +\\\n",
    "    \"EF(T2);\\n\" +\\\n",
    "    \"SPEC\\n\" +\\\n",
    "    \"EF(T3);\\n\" +\\\n",
    "    \"--NO UNSTABLE CYCLE\\n\" +\\\n",
    "    \"SPEC\\n\" +\\\n",
    "    \"AG(EF(stab));\\n\" +\\\n",
    "    \"--NO CONTRADICTORY OUTPUTS\\n\" +\\\n",
    "    \"SPEC\\n\" +\\\n",
    "    \"AG( ! (set_OUT1 & reset_OUT1) );\\n\" +\\\n",
    "    \"SPEC\\n\" +\\\n",
    "    \"AG( ! (set_OUT2 & reset_OUT2) );\\n\" +\\\n",
    "    \"-- NO EMPTY OUTPUT\\n\" +\\\n",
    "    \"SPEC\\n\" +\\\n",
    "    \"AG( set_OUT1 | reset_OUT1 );\\n\" +\\\n",
    "    \"SPEC\\n\" +\\\n",
    "    \"AG( set_OUT2 | reset_OUT2 );\\n\""
   ]
  },
  {
   "cell_type": "code",
   "execution_count": 23,
   "metadata": {},
   "outputs": [],
   "source": [
    "# Convert json to ordered dict\n",
    "in_dict= json.loads(input_str, object_pairs_hook=OrderedDict)"
   ]
  },
  {
   "cell_type": "code",
   "execution_count": 24,
   "metadata": {},
   "outputs": [
    {
     "output_type": "execute_result",
     "data": {
      "text/plain": [
       "OrderedDict([('places',\n",
       "              OrderedDict([('P1', [[['OUT1'], ['OUT2']], 'Initial place']),\n",
       "                           ('P2',\n",
       "                            [[['OUT1'], ['OUT2']],\n",
       "                             ['X_SET:= 560'],\n",
       "                             'Move tool to X position']),\n",
       "                           ('STOP',\n",
       "                            [[[], ['OUT1', 'OUT2']],\n",
       "                             ['X_SET:= 0'],\n",
       "                             'Stop machining']),\n",
       "                           ('initial', ['P1'])])),\n",
       "             ('outputs',\n",
       "              OrderedDict([('OUT1', ['%QX100.0']),\n",
       "                           ('OUT2', ['%QX100.1']),\n",
       "                           ('X_SET', ['%QW100'])])),\n",
       "             ('transitions',\n",
       "              OrderedDict([('T1', [['P1'], [[['IN1'], ['IN2']]], ['P2']]),\n",
       "                           ('T2', [['P2'], [['X_POS= 560']], ['STOP']]),\n",
       "                           ('T3', [['STOP'], [[['START'], []]], ['P1']])])),\n",
       "             ('inputs',\n",
       "              OrderedDict([('IN1', ['boolean', '%IX100.0']),\n",
       "                           ('IN2', ['boolean', '%IX100.1']),\n",
       "                           ('X_POS',\n",
       "                            [['{0, 560}', 0, '{0, 560}'], '%IW100'])])),\n",
       "             ('specifications',\n",
       "              OrderedDict([('auto', True), ('manual', ['AG(EF(STOP))'])]))])"
      ]
     },
     "metadata": {},
     "execution_count": 24
    }
   ],
   "source": [
    "in_dict"
   ]
  },
  {
   "source": [
    "#### Check if auto specs are requested"
   ],
   "cell_type": "markdown",
   "metadata": {}
  },
  {
   "cell_type": "code",
   "execution_count": 25,
   "metadata": {},
   "outputs": [],
   "source": [
    "try:\n",
    "    if in_dict[\"specifications\"][\"auto\"]:\n",
    "        gen_auto= True\n",
    "    else:\n",
    "        gen_auto= False\n",
    "except KeyError:\n",
    "    gen_auto= False"
   ]
  },
  {
   "cell_type": "code",
   "execution_count": 26,
   "metadata": {},
   "outputs": [
    {
     "output_type": "execute_result",
     "data": {
      "text/plain": [
       "True"
      ]
     },
     "metadata": {},
     "execution_count": 26
    }
   ],
   "source": [
    "gen_auto"
   ]
  },
  {
   "source": [
    "#### Liveness, deadlock-freeness, and dead transitions"
   ],
   "cell_type": "markdown",
   "metadata": {}
  },
  {
   "cell_type": "code",
   "execution_count": 27,
   "metadata": {},
   "outputs": [],
   "source": [
    "# Transitions\n",
    "transitions= list(in_dict[\"transitions\"])"
   ]
  },
  {
   "cell_type": "code",
   "execution_count": 28,
   "metadata": {},
   "outputs": [
    {
     "output_type": "execute_result",
     "data": {
      "text/plain": [
       "['T1', 'T2', 'T3']"
      ]
     },
     "metadata": {},
     "execution_count": 28
    }
   ],
   "source": [
    "transitions"
   ]
  },
  {
   "cell_type": "code",
   "execution_count": 30,
   "metadata": {},
   "outputs": [],
   "source": [
    "liveness= \"--CHECK LIVENESS\\n\"\n",
    "deadlock_st= \"--CHECK DEADLOCKS\\n\" + \"SPEC\\n\" + \"AG(EF(\"\n",
    "deadlock= \"\"\n",
    "deadlock_end= \" ));\\n\"\n",
    "dead= \"--CHECK DEAD TRANSITIONS\\n\""
   ]
  },
  {
   "cell_type": "code",
   "execution_count": 31,
   "metadata": {},
   "outputs": [],
   "source": [
    "\n",
    "for idx,transition in enumerate(transitions):\n",
    "    liveness= liveness +\\\n",
    "        \"SPEC\\n\" +\\\n",
    "        \"AG(EF({0}));\\n\".format(transition)\n",
    "\n",
    "    dead= dead +\\\n",
    "        \"SPEC\\n\" +\\\n",
    "        \"EF({0});\\n\".format(transition)\n",
    "\n",
    "    # Check if last element\n",
    "    if (idx+1) == len(transitions):\n",
    "        deadlock= deadlock + \" {0}\".format(transition)\n",
    "    # Otherwise\n",
    "    else:\n",
    "        deadlock= deadlock + \" {0} |\".format(transition)\n",
    "\n"
   ]
  },
  {
   "cell_type": "code",
   "execution_count": 35,
   "metadata": {},
   "outputs": [
    {
     "output_type": "execute_result",
     "data": {
      "text/plain": [
       "'--CHECK LIVENESS\\nSPEC\\nAG(EF(T1));\\nSPEC\\nAG(EF(T2));\\nSPEC\\nAG(EF(T3));\\n'"
      ]
     },
     "metadata": {},
     "execution_count": 35
    }
   ],
   "source": [
    "liveness"
   ]
  },
  {
   "cell_type": "code",
   "execution_count": 36,
   "metadata": {},
   "outputs": [],
   "source": [
    "deadlock= deadlock_st + deadlock + deadlock_end"
   ]
  },
  {
   "cell_type": "code",
   "execution_count": 37,
   "metadata": {},
   "outputs": [
    {
     "output_type": "execute_result",
     "data": {
      "text/plain": [
       "'--CHECK DEADLOCKS\\nSPEC\\nAG(EF(  T1 | T2 | T3 ));\\n'"
      ]
     },
     "metadata": {},
     "execution_count": 37
    }
   ],
   "source": [
    "deadlock"
   ]
  },
  {
   "cell_type": "code",
   "execution_count": 38,
   "metadata": {},
   "outputs": [
    {
     "output_type": "execute_result",
     "data": {
      "text/plain": [
       "'--CHECK DEAD TRANSITIONS\\nSPEC\\nEF(T1);\\nSPEC\\nEF(T2);\\nSPEC\\nEF(T3);\\n'"
      ]
     },
     "metadata": {},
     "execution_count": 38
    }
   ],
   "source": [
    "dead"
   ]
  },
  {
   "source": [
    "#### Unstable cycles"
   ],
   "cell_type": "markdown",
   "metadata": {}
  },
  {
   "cell_type": "code",
   "execution_count": 40,
   "metadata": {},
   "outputs": [],
   "source": [
    "unstable_cycles= \"--CHECK UNSTABLE CYCLES\\n\" + \"SPEC\\n\" + \"AG(EF(stab));\\n\""
   ]
  },
  {
   "source": [
    "#### Contradictory and empty outputs"
   ],
   "cell_type": "markdown",
   "metadata": {}
  },
  {
   "cell_type": "code",
   "execution_count": 49,
   "metadata": {},
   "outputs": [],
   "source": [
    "bool_outputs= [key for key in list(in_dict[\"outputs\"]) if \"%QX\" in in_dict[\"outputs\"][key][0] ]"
   ]
  },
  {
   "cell_type": "code",
   "execution_count": 50,
   "metadata": {},
   "outputs": [
    {
     "output_type": "execute_result",
     "data": {
      "text/plain": [
       "['OUT1', 'OUT2']"
      ]
     },
     "metadata": {},
     "execution_count": 50
    }
   ],
   "source": [
    "bool_outputs"
   ]
  },
  {
   "cell_type": "code",
   "execution_count": 51,
   "metadata": {},
   "outputs": [],
   "source": [
    "contradictory= \"--CHECK CONTRADICTORY OUTPUTS\\n\" \n",
    "empty= \"--CHECK EMPTY OUTPUTS\\n\""
   ]
  },
  {
   "cell_type": "code",
   "execution_count": 52,
   "metadata": {},
   "outputs": [],
   "source": [
    "for output in bool_outputs:\n",
    "    contradictory= contradictory +\\\n",
    "        \"SPEC\\n\" +\\\n",
    "        \"AG( ! (set_{0} & reset_{0}) );\\n\".format(output)\n",
    "\n",
    "    empty= empty +\\\n",
    "        \"SPEC\\n\" +\\\n",
    "        \"AG( set_{0} | reset_{0} );\\n\".format(output)"
   ]
  },
  {
   "cell_type": "code",
   "execution_count": 53,
   "metadata": {},
   "outputs": [
    {
     "output_type": "execute_result",
     "data": {
      "text/plain": [
       "'SPEC\\nAG( ! (set_OUT1 & reset_OUT1) );\\nSPEC\\nAG( ! (set_OUT2 & reset_OUT2) );\\n'"
      ]
     },
     "metadata": {},
     "execution_count": 53
    }
   ],
   "source": [
    "contradictory"
   ]
  },
  {
   "cell_type": "code",
   "execution_count": 54,
   "metadata": {},
   "outputs": [
    {
     "output_type": "execute_result",
     "data": {
      "text/plain": [
       "'SPEC\\nAG( set_OUT1 | reset_OUT1 );\\nSPEC\\nAG( set_OUT2 | reset_OUT2 );\\n'"
      ]
     },
     "metadata": {},
     "execution_count": 54
    }
   ],
   "source": [
    "empty"
   ]
  },
  {
   "cell_type": "code",
   "execution_count": null,
   "metadata": {},
   "outputs": [],
   "source": []
  }
 ]
}
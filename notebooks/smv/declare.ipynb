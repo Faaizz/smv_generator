{
 "metadata": {
  "language_info": {
   "codemirror_mode": {
    "name": "ipython",
    "version": 3
   },
   "file_extension": ".py",
   "mimetype": "text/x-python",
   "name": "python",
   "nbconvert_exporter": "python",
   "pygments_lexer": "ipython3",
   "version": "3.8.5-final"
  },
  "orig_nbformat": 2,
  "kernelspec": {
   "name": "python38564biteds2020condaee33f8e6fe174929adef1f5db772c60a",
   "display_name": "Python 3.8.5 64-bit ('EDS2020': conda)"
  }
 },
 "nbformat": 4,
 "nbformat_minor": 2,
 "cells": [
  {
   "cell_type": "code",
   "execution_count": 1,
   "metadata": {},
   "outputs": [
    {
     "output_type": "error",
     "ename": "Error",
     "evalue": "Jupyter cannot be started. Error attempting to locate jupyter: 'Kernelspec' module not installed in the selected interpreter (C:\\Users\\fr33z\\AppData\\Local\\Programs\\Python\\Python39\\python.exe).\n Please re-install or update 'jupyter'.",
     "traceback": [
      "Error: Jupyter cannot be started. Error attempting to locate jupyter: 'Kernelspec' module not installed in the selected interpreter (C:\\Users\\fr33z\\AppData\\Local\\Programs\\Python\\Python39\\python.exe).",
      "Please re-install or update 'jupyter'.",
      "at w.startServer (c:\\Users\\fr33z\\.vscode\\extensions\\ms-toolsai.jupyter-2020.11.372831992\\out\\client\\extension.js:49:383136)",
      "at runMicrotasks (<anonymous>)",
      "at processTicksAndRejections (internal/process/task_queues.js:94:5)",
      "at async w.createServer (c:\\Users\\fr33z\\.vscode\\extensions\\ms-toolsai.jupyter-2020.11.372831992\\out\\client\\extension.js:49:382434)",
      "at async connect (c:\\Users\\fr33z\\.vscode\\extensions\\ms-toolsai.jupyter-2020.11.372831992\\out\\client\\extension.js:49:507754)",
      "at async f.ensureConnectionAndNotebookImpl (c:\\Users\\fr33z\\.vscode\\extensions\\ms-toolsai.jupyter-2020.11.372831992\\out\\client\\extension.js:32:569764)",
      "at async f.ensureConnectionAndNotebook (c:\\Users\\fr33z\\.vscode\\extensions\\ms-toolsai.jupyter-2020.11.372831992\\out\\client\\extension.js:32:568228)",
      "at async f.clearResult (c:\\Users\\fr33z\\.vscode\\extensions\\ms-toolsai.jupyter-2020.11.372831992\\out\\client\\extension.js:32:564008)",
      "at async f.reexecuteCell (c:\\Users\\fr33z\\.vscode\\extensions\\ms-toolsai.jupyter-2020.11.372831992\\out\\client\\extension.js:9:170425)",
      "at async f.reexecuteCells (c:\\Users\\fr33z\\.vscode\\extensions\\ms-toolsai.jupyter-2020.11.372831992\\out\\client\\extension.js:9:166755)"
     ]
    }
   ],
   "source": [
    "# imports\n",
    "import json\n",
    "from collections import OrderedDict"
   ]
  },
  {
   "source": [
    "## Declarations"
   ],
   "cell_type": "markdown",
   "metadata": {}
  },
  {
   "source": [
    "### Input Declaration"
   ],
   "cell_type": "markdown",
   "metadata": {}
  },
  {
   "cell_type": "code",
   "execution_count": 28,
   "metadata": {},
   "outputs": [],
   "source": [
    "# Json input\n",
    "input_str= r\"\"\"\n",
    "{\n",
    "    \"S_AL1_ST1\": [\"boolean\", \"%IX100.0\"],\n",
    "    \"S_AL1_ST2\": [\"boolean\", \"%IX100.1\"],\n",
    "    \"STATUS\": [\n",
    "        [\n",
    "            \"{\\\"stopped\\\", \\\"running\\\"}\",\n",
    "            \"stopped\",\n",
    "            \"{\\\"stopped\\\", \\\"running\\\"}\"\n",
    "        ],\n",
    "        \"%IX100.2\"\n",
    "    ],\n",
    "    \"AL1_ST_X_POS\": [\n",
    "        [\n",
    "            \"{0, 400, 860}\",\n",
    "            0,\n",
    "            \"{0, 400, 860}\"\n",
    "        ],\n",
    "        \"%IW100\",\n",
    "        \"INT\"\n",
    "    ],\n",
    "    \"AL1_ST_Y_POS\": [\n",
    "        [\n",
    "            \"{0, 300, 560}\",\n",
    "            0,\n",
    "            \"{0, 300, 560}\"\n",
    "        ],\n",
    "        \"%IW101\",\n",
    "        \"INT\"\n",
    "    ]\n",
    "}\n",
    "\"\"\"\n"
   ]
  },
  {
   "cell_type": "code",
   "execution_count": 29,
   "metadata": {},
   "outputs": [],
   "source": [
    "\n",
    "# Convert Json string to python dictionary\n",
    "in_dict= json.loads(input_str, object_pairs_hook=OrderedDict)\n"
   ]
  },
  {
   "cell_type": "code",
   "execution_count": 30,
   "metadata": {},
   "outputs": [],
   "source": [
    "# Expected MuSMV\n",
    "expected= 'S_AL1_ST1: boolean;\\n' + \\\n",
    "    'S_AL1_ST2: boolean;\\n' + \\\n",
    "    'STATUS: {\"stopped\", \"running\"};\\n' + \\\n",
    "    'AL1_ST_X_POS: {0, 400, 860};\\n' + \\\n",
    "    'AL1_ST_Y_POS: {0, 300, 560};\\n'"
   ]
  },
  {
   "cell_type": "code",
   "execution_count": 31,
   "metadata": {},
   "outputs": [
    {
     "output_type": "execute_result",
     "data": {
      "text/plain": [
       "OrderedDict([('S_AL1_ST1', ['boolean', '%IX100.0']),\n",
       "             ('S_AL1_ST2', ['boolean', '%IX100.1']),\n",
       "             ('STATUS',\n",
       "              [['{\"stopped\", \"running\"}', 'stopped', '{\"stopped\", \"running\"}'],\n",
       "               '%IX100.2']),\n",
       "             ('AL1_ST_X_POS',\n",
       "              [['{0, 400, 860}', 0, '{0, 400, 860}'], '%IW100', 'INT']),\n",
       "             ('AL1_ST_Y_POS',\n",
       "              [['{0, 300, 560}', 0, '{0, 300, 560}'], '%IW101', 'INT'])])"
      ]
     },
     "metadata": {},
     "execution_count": 31
    }
   ],
   "source": [
    "in_dict"
   ]
  },
  {
   "cell_type": "code",
   "execution_count": 32,
   "metadata": {},
   "outputs": [],
   "source": [
    "out_str= \"\""
   ]
  },
  {
   "cell_type": "code",
   "execution_count": 33,
   "metadata": {},
   "outputs": [],
   "source": [
    "# loop through elements\n",
    "for key in iter(in_dict):\n",
    "    value= in_dict[key][0]\n",
    "    # Check if SMV type is not a list\n",
    "    if not isinstance(value, list):\n",
    "        # Type is boolean\n",
    "        input_type= value\n",
    "    \n",
    "    else: \n",
    "        # Type is specified as raw string\n",
    "        input_type= value[0]\n",
    "\n",
    "    temp= key + \": \" + input_type + \";\\n\"\n",
    "    out_str= out_str + temp"
   ]
  },
  {
   "cell_type": "code",
   "execution_count": 34,
   "metadata": {},
   "outputs": [
    {
     "output_type": "execute_result",
     "data": {
      "text/plain": [
       "'S_AL1_ST1: boolean;\\nS_AL1_ST2: boolean;\\nSTATUS: {\"stopped\", \"running\"};\\nAL1_ST_X_POS: {0, 400, 860};\\nAL1_ST_Y_POS: {0, 300, 560};\\n'"
      ]
     },
     "metadata": {},
     "execution_count": 34
    }
   ],
   "source": [
    "out_str"
   ]
  },
  {
   "cell_type": "code",
   "execution_count": 35,
   "metadata": {},
   "outputs": [
    {
     "output_type": "execute_result",
     "data": {
      "text/plain": [
       "'S_AL1_ST1: boolean;\\nS_AL1_ST2: boolean;\\nSTATUS: {\"stopped\", \"running\"};\\nAL1_ST_X_POS: {0, 400, 860};\\nAL1_ST_Y_POS: {0, 300, 560};\\n'"
      ]
     },
     "metadata": {},
     "execution_count": 35
    }
   ],
   "source": [
    "expected"
   ]
  },
  {
   "cell_type": "code",
   "execution_count": 36,
   "metadata": {},
   "outputs": [],
   "source": [
    "assert( out_str == expected)"
   ]
  },
  {
   "source": [
    "### Place Declaration"
   ],
   "cell_type": "markdown",
   "metadata": {}
  },
  {
   "cell_type": "code",
   "execution_count": 46,
   "metadata": {},
   "outputs": [],
   "source": [
    "# Json input\n",
    "input_str= \"\"\"\n",
    "{\n",
    "    \"PS2\": [\n",
    "        [\n",
    "            [\"RP_AL1_ST_CLAMP\"], [\"AL1_ST_GRAB\"]\n",
    "        ],\n",
    "        \"Product gets withing graber range\"\n",
    "    ],\n",
    "    \"PS4\": [\n",
    "        [\n",
    "            [\"RP_AL1_ST_CLAMP\"], [\"AL1_ST_GRAB\"]\n",
    "        ],\n",
    "        [\"AL1_ST_Z_SET:=750\"],\n",
    "        \"Move grabber down to pick up product\"\n",
    "    ],\n",
    "    \"PSE0\": [\n",
    "        [\n",
    "            [], [\"AL1_EMIT\", \"RC_AL1_ST\"]\n",
    "        ],\n",
    "        \"New box arrived, stop conveyor\"\n",
    "    ],\n",
    "    \"initial\": [\"PS2\", \"PSE0\"]\n",
    "    \n",
    "}\n",
    "\"\"\"\n",
    "\n"
   ]
  },
  {
   "cell_type": "code",
   "execution_count": 47,
   "metadata": {},
   "outputs": [],
   "source": [
    "# Convert Json string to python dictionary\n",
    "in_dict= json.loads(input_str)"
   ]
  },
  {
   "cell_type": "code",
   "execution_count": 48,
   "metadata": {},
   "outputs": [],
   "source": [
    "# Expected NuSMV\n",
    "expected= \"PS2: boolean;\\n\" + \"PS4: boolean;\\n\" + \"PSE0: boolean;\\n\""
   ]
  },
  {
   "cell_type": "code",
   "execution_count": 58,
   "metadata": {},
   "outputs": [],
   "source": [
    "out_str= \"\""
   ]
  },
  {
   "cell_type": "code",
   "execution_count": 59,
   "metadata": {},
   "outputs": [],
   "source": [
    "for key,value in in_dict.items():\n",
    "    if not key == \"initial\":\n",
    "        temp= key + \": \" + \"boolean;\\n\"\n",
    "        out_str= out_str + temp\n"
   ]
  },
  {
   "cell_type": "code",
   "execution_count": 60,
   "metadata": {},
   "outputs": [
    {
     "output_type": "execute_result",
     "data": {
      "text/plain": [
       "'PS2: boolean;\\nPS4: boolean;\\nPSE0: boolean;\\n'"
      ]
     },
     "metadata": {},
     "execution_count": 60
    }
   ],
   "source": [
    "out_str"
   ]
  },
  {
   "cell_type": "code",
   "execution_count": 61,
   "metadata": {},
   "outputs": [
    {
     "output_type": "execute_result",
     "data": {
      "text/plain": [
       "'PS2: boolean;\\nPS4: boolean;\\nPSE0: boolean;\\n'"
      ]
     },
     "metadata": {},
     "execution_count": 61
    }
   ],
   "source": [
    "expected"
   ]
  },
  {
   "cell_type": "code",
   "execution_count": 63,
   "metadata": {},
   "outputs": [],
   "source": [
    "assert expected == out_str"
   ]
  },
  {
   "cell_type": "code",
   "execution_count": null,
   "metadata": {},
   "outputs": [],
   "source": []
  }
 ]
}
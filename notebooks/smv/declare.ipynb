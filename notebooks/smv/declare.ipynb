{
 "metadata": {
  "language_info": {
   "codemirror_mode": {
    "name": "ipython",
    "version": 3
   },
   "file_extension": ".py",
   "mimetype": "text/x-python",
   "name": "python",
   "nbconvert_exporter": "python",
   "pygments_lexer": "ipython3",
   "version": "3.8.5-final"
  },
  "orig_nbformat": 2,
  "kernelspec": {
   "name": "python38564biteds2020condaee33f8e6fe174929adef1f5db772c60a",
   "display_name": "Python 3.8.5 64-bit ('EDS2020': conda)"
  }
 },
 "nbformat": 4,
 "nbformat_minor": 2,
 "cells": [
  {
   "cell_type": "code",
   "execution_count": 6,
   "metadata": {},
   "outputs": [],
   "source": [
    "# imports\n",
    "import json\n",
    "from collections import OrderedDict\n",
    "import pprint"
   ]
  },
  {
   "source": [
    "## Declarations"
   ],
   "cell_type": "markdown",
   "metadata": {}
  },
  {
   "source": [
    "### Input Declaration"
   ],
   "cell_type": "markdown",
   "metadata": {}
  },
  {
   "cell_type": "code",
   "execution_count": 28,
   "metadata": {},
   "outputs": [],
   "source": [
    "# Json input\n",
    "input_str= r\"\"\"\n",
    "{\n",
    "    \"S_AL1_ST1\": [\"boolean\", \"%IX100.0\"],\n",
    "    \"S_AL1_ST2\": [\"boolean\", \"%IX100.1\"],\n",
    "    \"STATUS\": [\n",
    "        [\n",
    "            \"{\\\"stopped\\\", \\\"running\\\"}\",\n",
    "            \"stopped\",\n",
    "            \"{\\\"stopped\\\", \\\"running\\\"}\"\n",
    "        ],\n",
    "        \"%IX100.2\"\n",
    "    ],\n",
    "    \"AL1_ST_X_POS\": [\n",
    "        [\n",
    "            \"{0, 400, 860}\",\n",
    "            0,\n",
    "            \"{0, 400, 860}\"\n",
    "        ],\n",
    "        \"%IW100\",\n",
    "        \"INT\"\n",
    "    ],\n",
    "    \"AL1_ST_Y_POS\": [\n",
    "        [\n",
    "            \"{0, 300, 560}\",\n",
    "            0,\n",
    "            \"{0, 300, 560}\"\n",
    "        ],\n",
    "        \"%IW101\",\n",
    "        \"INT\"\n",
    "    ]\n",
    "}\n",
    "\"\"\"\n"
   ]
  },
  {
   "cell_type": "code",
   "execution_count": 29,
   "metadata": {},
   "outputs": [],
   "source": [
    "\n",
    "# Convert Json string to python dictionary\n",
    "in_dict= json.loads(input_str, object_pairs_hook=OrderedDict)\n"
   ]
  },
  {
   "cell_type": "code",
   "execution_count": 30,
   "metadata": {},
   "outputs": [],
   "source": [
    "# Expected MuSMV\n",
    "expected= 'S_AL1_ST1: boolean;\\n' + \\\n",
    "    'S_AL1_ST2: boolean;\\n' + \\\n",
    "    'STATUS: {\"stopped\", \"running\"};\\n' + \\\n",
    "    'AL1_ST_X_POS: {0, 400, 860};\\n' + \\\n",
    "    'AL1_ST_Y_POS: {0, 300, 560};\\n'"
   ]
  },
  {
   "cell_type": "code",
   "execution_count": 31,
   "metadata": {},
   "outputs": [
    {
     "output_type": "execute_result",
     "data": {
      "text/plain": [
       "OrderedDict([('S_AL1_ST1', ['boolean', '%IX100.0']),\n",
       "             ('S_AL1_ST2', ['boolean', '%IX100.1']),\n",
       "             ('STATUS',\n",
       "              [['{\"stopped\", \"running\"}', 'stopped', '{\"stopped\", \"running\"}'],\n",
       "               '%IX100.2']),\n",
       "             ('AL1_ST_X_POS',\n",
       "              [['{0, 400, 860}', 0, '{0, 400, 860}'], '%IW100', 'INT']),\n",
       "             ('AL1_ST_Y_POS',\n",
       "              [['{0, 300, 560}', 0, '{0, 300, 560}'], '%IW101', 'INT'])])"
      ]
     },
     "metadata": {},
     "execution_count": 31
    }
   ],
   "source": [
    "in_dict"
   ]
  },
  {
   "cell_type": "code",
   "execution_count": 32,
   "metadata": {},
   "outputs": [],
   "source": [
    "out_str= \"\""
   ]
  },
  {
   "cell_type": "code",
   "execution_count": 33,
   "metadata": {},
   "outputs": [],
   "source": [
    "# loop through elements\n",
    "for key in iter(in_dict):\n",
    "    value= in_dict[key][0]\n",
    "    # Check if SMV type is not a list\n",
    "    if not isinstance(value, list):\n",
    "        # Type is boolean\n",
    "        input_type= value\n",
    "    \n",
    "    else: \n",
    "        # Type is specified as raw string\n",
    "        input_type= value[0]\n",
    "\n",
    "    temp= key + \": \" + input_type + \";\\n\"\n",
    "    out_str= out_str + temp"
   ]
  },
  {
   "cell_type": "code",
   "execution_count": 34,
   "metadata": {},
   "outputs": [
    {
     "output_type": "execute_result",
     "data": {
      "text/plain": [
       "'S_AL1_ST1: boolean;\\nS_AL1_ST2: boolean;\\nSTATUS: {\"stopped\", \"running\"};\\nAL1_ST_X_POS: {0, 400, 860};\\nAL1_ST_Y_POS: {0, 300, 560};\\n'"
      ]
     },
     "metadata": {},
     "execution_count": 34
    }
   ],
   "source": [
    "out_str"
   ]
  },
  {
   "cell_type": "code",
   "execution_count": 35,
   "metadata": {},
   "outputs": [
    {
     "output_type": "execute_result",
     "data": {
      "text/plain": [
       "'S_AL1_ST1: boolean;\\nS_AL1_ST2: boolean;\\nSTATUS: {\"stopped\", \"running\"};\\nAL1_ST_X_POS: {0, 400, 860};\\nAL1_ST_Y_POS: {0, 300, 560};\\n'"
      ]
     },
     "metadata": {},
     "execution_count": 35
    }
   ],
   "source": [
    "expected"
   ]
  },
  {
   "cell_type": "code",
   "execution_count": 36,
   "metadata": {},
   "outputs": [],
   "source": [
    "assert( out_str == expected)"
   ]
  },
  {
   "source": [
    "### Place Declaration"
   ],
   "cell_type": "markdown",
   "metadata": {}
  },
  {
   "cell_type": "code",
   "execution_count": 46,
   "metadata": {},
   "outputs": [],
   "source": [
    "# Json input\n",
    "input_str= \"\"\"\n",
    "{\n",
    "    \"PS2\": [\n",
    "        [\n",
    "            [\"RP_AL1_ST_CLAMP\"], [\"AL1_ST_GRAB\"]\n",
    "        ],\n",
    "        \"Product gets withing graber range\"\n",
    "    ],\n",
    "    \"PS4\": [\n",
    "        [\n",
    "            [\"RP_AL1_ST_CLAMP\"], [\"AL1_ST_GRAB\"]\n",
    "        ],\n",
    "        [\"AL1_ST_Z_SET:=750\"],\n",
    "        \"Move grabber down to pick up product\"\n",
    "    ],\n",
    "    \"PSE0\": [\n",
    "        [\n",
    "            [], [\"AL1_EMIT\", \"RC_AL1_ST\"]\n",
    "        ],\n",
    "        \"New box arrived, stop conveyor\"\n",
    "    ],\n",
    "    \"initial\": [\"PS2\", \"PSE0\"]\n",
    "    \n",
    "}\n",
    "\"\"\"\n",
    "\n"
   ]
  },
  {
   "cell_type": "code",
   "execution_count": 47,
   "metadata": {},
   "outputs": [],
   "source": [
    "# Convert Json string to python dictionary\n",
    "in_dict= json.loads(input_str)"
   ]
  },
  {
   "cell_type": "code",
   "execution_count": 48,
   "metadata": {},
   "outputs": [],
   "source": [
    "# Expected NuSMV\n",
    "expected= \"PS2: boolean;\\n\" + \"PS4: boolean;\\n\" + \"PSE0: boolean;\\n\""
   ]
  },
  {
   "cell_type": "code",
   "execution_count": 58,
   "metadata": {},
   "outputs": [],
   "source": [
    "out_str= \"\""
   ]
  },
  {
   "cell_type": "code",
   "execution_count": 59,
   "metadata": {},
   "outputs": [],
   "source": [
    "for key,value in in_dict.items():\n",
    "    if not key == \"initial\":\n",
    "        temp= key + \": \" + \"boolean;\\n\"\n",
    "        out_str= out_str + temp\n"
   ]
  },
  {
   "cell_type": "code",
   "execution_count": 60,
   "metadata": {},
   "outputs": [
    {
     "output_type": "execute_result",
     "data": {
      "text/plain": [
       "'PS2: boolean;\\nPS4: boolean;\\nPSE0: boolean;\\n'"
      ]
     },
     "metadata": {},
     "execution_count": 60
    }
   ],
   "source": [
    "out_str"
   ]
  },
  {
   "cell_type": "code",
   "execution_count": 61,
   "metadata": {},
   "outputs": [
    {
     "output_type": "execute_result",
     "data": {
      "text/plain": [
       "'PS2: boolean;\\nPS4: boolean;\\nPSE0: boolean;\\n'"
      ]
     },
     "metadata": {},
     "execution_count": 61
    }
   ],
   "source": [
    "expected"
   ]
  },
  {
   "cell_type": "code",
   "execution_count": 63,
   "metadata": {},
   "outputs": [],
   "source": [
    "assert expected == out_str"
   ]
  },
  {
   "source": [
    "### Internal Declaration"
   ],
   "cell_type": "markdown",
   "metadata": {}
  },
  {
   "cell_type": "code",
   "execution_count": 3,
   "metadata": {},
   "outputs": [],
   "source": [
    "#Json input\n",
    "input_str= r\"\"\"\n",
    "{\n",
    "    \"timer_P1\": [\n",
    "        [\n",
    "            \"MODULE\",\n",
    "            {\n",
    "                \"Q\": \"boolean\",\n",
    "                \"ET\": [\n",
    "                    \"{\\\"zero\\\", \\\"half\\\", \\\"full\\\"}\",\n",
    "                    \"zero\",\n",
    "                    \"{\\\"zero\\\", \\\"half\\\", \\\"full\\\"}\"\n",
    "                ]\n",
    "            }\n",
    "        ],\n",
    "        [\n",
    "            \"TON\",\n",
    "            \"timer_P1(IN:= P1, PT:= T#100ms)\"\n",
    "        ]\n",
    "    ],\n",
    "    \"count\": [\n",
    "        [\n",
    "            \"0..10\",\n",
    "            0,\n",
    "            \"{0, 3, 7, 10}\"\n",
    "        ],\n",
    "        [\n",
    "            \"INT\",\n",
    "            \"count:=0\"\n",
    "        ]\n",
    "    ]\n",
    "}\n",
    "\"\"\""
   ]
  },
  {
   "cell_type": "code",
   "execution_count": 61,
   "metadata": {},
   "outputs": [],
   "source": [
    "# Expected NuSMV\n",
    "expected_modules= \"MODULE timer_P1_mod\\n\" +\\\n",
    "    \"VAR\\n\" + \"Q: boolean;\\n\" +\\\n",
    "    'ET: {\"zero\", \"half\", \"full\"};\\n' +\\\n",
    "    \"ASSIGN\\n\" +\\\n",
    "    \"init(Q):= {TRUE, FALSE};\\n\" +\\\n",
    "    \"next(Q):= {TRUE, FALSE};\\n\" +\\\n",
    "    'init(ET):= \"zero\";\\n' +\\\n",
    "    'next(ET):= {\"zero\", \"half\", \"full\"};\\n'\n"
   ]
  },
  {
   "cell_type": "code",
   "execution_count": 7,
   "metadata": {},
   "outputs": [
    {
     "output_type": "stream",
     "name": "stdout",
     "text": [
      "('MODULE timer_P1_mod\\n'\n 'VAR\\n'\n 'Q: boolean;\\n'\n 'ET: {\"zero\", \"half\", \"full\"};\\n'\n 'ASSIGN\\n'\n 'init(Q):= {TRUE, FALSE};\\n'\n 'init(ET):= {\"zero\", \"half\", \"full\"};\\n'\n 'next(Q):= {TRUE, FALSE};\\n'\n 'next(ET):= {\"zero\", \"half\", \"full\"};\\n')\n"
     ]
    }
   ],
   "source": [
    "pprint.pprint(expected_modules)"
   ]
  },
  {
   "cell_type": "code",
   "execution_count": 8,
   "metadata": {},
   "outputs": [],
   "source": [
    "# Expected NuSMV\n",
    "expected_main= \"timer_P1: timer_P1_mod;\\n\" +\\\n",
    "    \"count: 0..10;\\n\""
   ]
  },
  {
   "cell_type": "code",
   "execution_count": 9,
   "metadata": {},
   "outputs": [
    {
     "output_type": "execute_result",
     "data": {
      "text/plain": [
       "'timer_P1: timer_P1_mod;\\ncount: 0..10;\\n'"
      ]
     },
     "metadata": {},
     "execution_count": 9
    }
   ],
   "source": [
    "expected_main"
   ]
  },
  {
   "cell_type": "code",
   "execution_count": 10,
   "metadata": {},
   "outputs": [],
   "source": [
    "in_dict= json.loads(input_str, object_pairs_hook=OrderedDict)\n"
   ]
  },
  {
   "cell_type": "code",
   "execution_count": 11,
   "metadata": {},
   "outputs": [
    {
     "output_type": "execute_result",
     "data": {
      "text/plain": [
       "OrderedDict([('timer_P1',\n",
       "              [['MODULE',\n",
       "                OrderedDict([('Q', 'boolean'),\n",
       "                             ('ET',\n",
       "                              ['{\"zero\", \"half\", \"full\"}',\n",
       "                               'zero',\n",
       "                               '{\"zero\", \"half\", \"full\"}'])])],\n",
       "               ['TON', 'timer_P1(IN:= P1, PT:= T#100ms)']]),\n",
       "             ('count', [['0..10', 0, '{0, 3, 7, 10}'], ['INT', 'count:=0']])])"
      ]
     },
     "metadata": {},
     "execution_count": 11
    }
   ],
   "source": [
    "in_dict"
   ]
  },
  {
   "source": [
    "#### Check for modules"
   ],
   "cell_type": "markdown",
   "metadata": {}
  },
  {
   "cell_type": "code",
   "execution_count": 17,
   "metadata": {},
   "outputs": [],
   "source": [
    "modules= []"
   ]
  },
  {
   "cell_type": "code",
   "execution_count": 20,
   "metadata": {},
   "outputs": [],
   "source": [
    "# Loop through elements to check for MODULES\n",
    "for key in list(in_dict):\n",
    "    if isinstance(in_dict[key][0][0], str):\n",
    "        if in_dict[key][0][0] == \"MODULE\":\n",
    "            modules.append(key)\n"
   ]
  },
  {
   "cell_type": "code",
   "execution_count": 21,
   "metadata": {},
   "outputs": [
    {
     "output_type": "execute_result",
     "data": {
      "text/plain": [
       "['timer_P1']"
      ]
     },
     "metadata": {},
     "execution_count": 21
    }
   ],
   "source": [
    "modules"
   ]
  },
  {
   "source": [
    "#### Declare Modules"
   ],
   "cell_type": "markdown",
   "metadata": {}
  },
  {
   "cell_type": "code",
   "execution_count": 53,
   "metadata": {},
   "outputs": [],
   "source": [
    "modules_str= \"\""
   ]
  },
  {
   "cell_type": "code",
   "execution_count": 54,
   "metadata": {},
   "outputs": [],
   "source": [
    "modules_assign= \"ASSIGN\\n\""
   ]
  },
  {
   "cell_type": "code",
   "execution_count": 55,
   "metadata": {},
   "outputs": [
    {
     "output_type": "execute_result",
     "data": {
      "text/plain": [
       "OrderedDict([('Q', 'boolean'),\n",
       "             ('ET',\n",
       "              ['{\"zero\", \"half\", \"full\"}',\n",
       "               'zero',\n",
       "               '{\"zero\", \"half\", \"full\"}'])])"
      ]
     },
     "metadata": {},
     "execution_count": 55
    }
   ],
   "source": [
    "in_dict[\"timer_P1\"][0][1]"
   ]
  },
  {
   "cell_type": "code",
   "execution_count": 56,
   "metadata": {},
   "outputs": [],
   "source": [
    "for module in modules:\n",
    "    modules_str= modules_str + \"MODULE {0}_mod\\n\".format(module)\n",
    "    modules_str= modules_str + \"VAR\\n\"\n",
    "\n",
    "    mod_vars= in_dict[\"timer_P1\"][0][1]\n",
    "    for mod_var in list(mod_vars):\n",
    "        # Simple string declaration of varianle\n",
    "        if isinstance(mod_vars[mod_var], str) \\\n",
    "            and mod_vars[mod_var] == \"boolean\":\n",
    "            modules_str= modules_str + \"{0}: boolean;\\n\".format(mod_var)\n",
    "            # Assignment\n",
    "            modules_assign= modules_assign + \"init({0})\".format(mod_var) + \":= {TRUE, FALSE};\\n\"\n",
    "            modules_assign= modules_assign + \"next({0})\".format(mod_var) + \":= {TRUE, FALSE};\\n\"\n",
    "\n",
    "        # Complex declaration\n",
    "        else:\n",
    "            modules_str= modules_str + '{0}: {1};\\n'.format(mod_var, mod_vars[mod_var][0])\n",
    "            # Assignment\n",
    "            modules_assign= modules_assign + 'init({0})'.format(mod_var) + ':= \"zero\";\\n'\n",
    "            modules_assign= modules_assign + 'next({0})'.format(mod_var) + ':= {\"zero\", \"half\", \"full\"};\\n'\n",
    "\n",
    "\n",
    "\n",
    "modules_str= modules_str + modules_assign\n"
   ]
  },
  {
   "cell_type": "code",
   "execution_count": 58,
   "metadata": {},
   "outputs": [
    {
     "output_type": "stream",
     "name": "stdout",
     "text": [
      "('MODULE timer_P1_mod\\n'\n 'VAR\\n'\n 'Q: boolean;\\n'\n 'ET: {\"zero\", \"half\", \"full\"};\\n'\n 'ASSIGN\\n'\n 'init(Q):= {TRUE, FALSE};\\n'\n 'next(Q):= {TRUE, FALSE};\\n'\n 'init(ET):= \"zero\";\\n'\n 'next(ET):= {\"zero\", \"half\", \"full\"};\\n')\n"
     ]
    }
   ],
   "source": [
    "pprint.pprint(modules_str)"
   ]
  },
  {
   "cell_type": "code",
   "execution_count": 62,
   "metadata": {},
   "outputs": [
    {
     "output_type": "stream",
     "name": "stdout",
     "text": [
      "('MODULE timer_P1_mod\\n'\n 'VAR\\n'\n 'Q: boolean;\\n'\n 'ET: {\"zero\", \"half\", \"full\"};\\n'\n 'ASSIGN\\n'\n 'init(Q):= {TRUE, FALSE};\\n'\n 'next(Q):= {TRUE, FALSE};\\n'\n 'init(ET):= \"zero\";\\n'\n 'next(ET):= {\"zero\", \"half\", \"full\"};\\n')\n"
     ]
    }
   ],
   "source": [
    "pprint.pprint(expected_modules)"
   ]
  },
  {
   "cell_type": "code",
   "execution_count": 63,
   "metadata": {},
   "outputs": [],
   "source": [
    "assert modules_str == expected_modules"
   ]
  },
  {
   "source": [],
   "cell_type": "markdown",
   "metadata": {}
  }
 ]
}
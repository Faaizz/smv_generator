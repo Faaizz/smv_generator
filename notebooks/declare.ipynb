{
 "metadata": {
  "language_info": {
   "codemirror_mode": {
    "name": "ipython",
    "version": 3
   },
   "file_extension": ".py",
   "mimetype": "text/x-python",
   "name": "python",
   "nbconvert_exporter": "python",
   "pygments_lexer": "ipython3",
   "version": "3.8.5-final"
  },
  "orig_nbformat": 2,
  "kernelspec": {
   "name": "python38564biteds2020condaee33f8e6fe174929adef1f5db772c60a",
   "display_name": "Python 3.8.5 64-bit ('EDS2020': conda)"
  }
 },
 "nbformat": 4,
 "nbformat_minor": 2,
 "cells": [
  {
   "cell_type": "code",
   "execution_count": 1,
   "metadata": {},
   "outputs": [],
   "source": [
    "# imports\n",
    "import json\n",
    "from collections import OrderedDict"
   ]
  },
  {
   "source": [
    "## Declarations"
   ],
   "cell_type": "markdown",
   "metadata": {}
  },
  {
   "source": [
    "### Input Declaration"
   ],
   "cell_type": "markdown",
   "metadata": {}
  },
  {
   "cell_type": "code",
   "execution_count": 2,
   "metadata": {},
   "outputs": [],
   "source": [
    "# Json input\n",
    "input_str= r\"\"\"\n",
    "{\n",
    "    \"I1\": \"boolean\",\n",
    "    \"I2\": [ \n",
    "            \"{\\\"1\\\", \\\"2\\\", \\\"3\\\"}\",\n",
    "            \"1\",\n",
    "            \"{\\\"1\\\", \\\"2\\\", \\\"3\\\"}\"\n",
    "        ],\n",
    "    \"I3\": [\n",
    "            \"0..10\",\n",
    "            \"{0, 4, 7}\",\n",
    "            \"{0, 5, 7}\"\n",
    "        ],\n",
    "    \"STATUS\": [\n",
    "            \"{\\\"stopped\\\", \\\"running\\\"}\",\n",
    "            \"stopped\",\n",
    "            \"{\\\"stopped\\\", \\\"running\\\"}\"\n",
    "        ]\n",
    "\n",
    "}\n",
    "\"\"\"\n"
   ]
  },
  {
   "cell_type": "code",
   "execution_count": 5,
   "metadata": {},
   "outputs": [],
   "source": [
    "\n",
    "# Convert Json string to python dictionary\n",
    "in_dict= json.loads(input_str, object_pairs_hook=OrderedDict)\n"
   ]
  },
  {
   "cell_type": "code",
   "execution_count": 6,
   "metadata": {},
   "outputs": [],
   "source": [
    "# Expected MuSMV\n",
    "expected= 'I1: boolean;\\n' + \\\n",
    "    'I2: {\"1\", \"2\", \"3\"};\\n' + \\\n",
    "    'I3: 0..10;\\n' + \\\n",
    "    'STATUS: {\"stopped\", \"running\"};\\n'"
   ]
  },
  {
   "cell_type": "code",
   "execution_count": 7,
   "metadata": {},
   "outputs": [
    {
     "output_type": "execute_result",
     "data": {
      "text/plain": [
       "OrderedDict([('I1', 'boolean'),\n",
       "             ('I2', ['{\"1\", \"2\", \"3\"}', '1', '{\"1\", \"2\", \"3\"}']),\n",
       "             ('I3', ['0..10', '{0, 4, 7}', '{0, 5, 7}']),\n",
       "             ('STATUS',\n",
       "              ['{\"stopped\", \"running\"}',\n",
       "               'stopped',\n",
       "               '{\"stopped\", \"running\"}'])])"
      ]
     },
     "metadata": {},
     "execution_count": 7
    }
   ],
   "source": [
    "in_dict"
   ]
  },
  {
   "cell_type": "code",
   "execution_count": 8,
   "metadata": {},
   "outputs": [],
   "source": [
    "out_str= \"\""
   ]
  },
  {
   "cell_type": "code",
   "execution_count": 10,
   "metadata": {},
   "outputs": [],
   "source": [
    "# loop through elements\n",
    "for key in iter(in_dict):\n",
    "    value= in_dict[key]\n",
    "    # Check if type is not a list\n",
    "    if not isinstance(value, list):\n",
    "        # Type is boolean\n",
    "        input_type= value\n",
    "    \n",
    "    else: \n",
    "        # Type is specified as array of raw string values\n",
    "        input_type= value[0]\n",
    "\n",
    "    temp= key + \": \" + input_type + \";\\n\"\n",
    "    out_str= out_str + temp"
   ]
  },
  {
   "cell_type": "code",
   "execution_count": 11,
   "metadata": {},
   "outputs": [
    {
     "output_type": "execute_result",
     "data": {
      "text/plain": [
       "'I1: boolean;\\nI2: {\"1\", \"2\", \"3\"};\\nI3: 0..10;\\nSTATUS: {\"stopped\", \"running\"};\\n'"
      ]
     },
     "metadata": {},
     "execution_count": 11
    }
   ],
   "source": [
    "out_str"
   ]
  },
  {
   "cell_type": "code",
   "execution_count": 13,
   "metadata": {},
   "outputs": [
    {
     "output_type": "error",
     "ename": "AssertionError",
     "evalue": "",
     "traceback": [
      "\u001b[0;31m---------------------------------------------------------------------------\u001b[0m",
      "\u001b[0;31mAssertionError\u001b[0m                            Traceback (most recent call last)",
      "\u001b[0;32m<ipython-input-13-2c226a8d9670>\u001b[0m in \u001b[0;36m<module>\u001b[0;34m\u001b[0m\n\u001b[0;32m----> 1\u001b[0;31m \u001b[0;32massert\u001b[0m\u001b[0;34m(\u001b[0m \u001b[0mout_str\u001b[0m \u001b[0;34m+\u001b[0m \u001b[0;34m\"1\"\u001b[0m \u001b[0;34m==\u001b[0m \u001b[0mexpected\u001b[0m\u001b[0;34m)\u001b[0m\u001b[0;34m\u001b[0m\u001b[0;34m\u001b[0m\u001b[0m\n\u001b[0m",
      "\u001b[0;31mAssertionError\u001b[0m: "
     ]
    }
   ],
   "source": [
    "assert( out_str == expected)"
   ]
  },
  {
   "source": [
    "### Place Declaration"
   ],
   "cell_type": "markdown",
   "metadata": {}
  },
  {
   "cell_type": "code",
   "execution_count": 3,
   "metadata": {},
   "outputs": [],
   "source": [
    "# Json input\n",
    "input_str= \"\"\"\n",
    "{\n",
    "    \"P1\": [\n",
    "        [\"O1\", \"O2\"],\n",
    "        [\"O3\"]\n",
    "    ],\n",
    "    \"P2\":[\n",
    "        [\"O3\"],\n",
    "        [\"O1\", \"O2\"]\n",
    "    ]\n",
    "    \n",
    "}\n",
    "\"\"\"\n",
    "\n",
    "# Convert Json string to python dictionary\n",
    "input_dict= json.loads(input_str)"
   ]
  },
  {
   "cell_type": "code",
   "execution_count": 4,
   "metadata": {},
   "outputs": [],
   "source": [
    "# Expected NuSMV\n",
    "expected= \"P1: boolean;\\n\" + \"P2: boolean;\\n\""
   ]
  },
  {
   "cell_type": "code",
   "execution_count": 6,
   "metadata": {},
   "outputs": [],
   "source": [
    "def place_declaration(in_dict):\n",
    "    \"\"\"Declare place variables in NuSMV\n",
    "\n",
    "    Parameters:\n",
    "    ----------\n",
    "    in_dict: dict\n",
    "\n",
    "    Returns:\n",
    "    -------\n",
    "    out_str: string\n",
    "    \"\"\"\n",
    "\n",
    "    out_str= \"\"\n",
    "\n",
    "    for key,value in in_dict.items():\n",
    "        temp= key + \": \" + \"boolean;\\n\"\n",
    "        out_str= out_str + temp\n",
    "\n",
    "    return out_str"
   ]
  },
  {
   "cell_type": "code",
   "execution_count": 7,
   "metadata": {},
   "outputs": [],
   "source": [
    "assert expected == place_declaration(input_dict)"
   ]
  },
  {
   "cell_type": "code",
   "execution_count": null,
   "metadata": {},
   "outputs": [],
   "source": []
  }
 ]
}
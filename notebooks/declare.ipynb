{
 "metadata": {
  "language_info": {
   "codemirror_mode": {
    "name": "ipython",
    "version": 3
   },
   "file_extension": ".py",
   "mimetype": "text/x-python",
   "name": "python",
   "nbconvert_exporter": "python",
   "pygments_lexer": "ipython3",
   "version": "3.8.5-final"
  },
  "orig_nbformat": 2,
  "kernelspec": {
   "name": "python38564biteds2020condaee33f8e6fe174929adef1f5db772c60a",
   "display_name": "Python 3.8.5 64-bit ('EDS2020': conda)"
  }
 },
 "nbformat": 4,
 "nbformat_minor": 2,
 "cells": [
  {
   "cell_type": "code",
   "execution_count": 2,
   "metadata": {},
   "outputs": [],
   "source": [
    "# imports\n",
    "import json\n",
    "from collections import OrderedDict"
   ]
  },
  {
   "source": [
    "## Declarations"
   ],
   "cell_type": "markdown",
   "metadata": {}
  },
  {
   "source": [
    "### Input Declaration"
   ],
   "cell_type": "markdown",
   "metadata": {}
  },
  {
   "cell_type": "code",
   "execution_count": 8,
   "metadata": {},
   "outputs": [],
   "source": [
    "# Json input\n",
    "input_str= \"\"\"\n",
    "{\n",
    "    \"I1\": [\n",
    "        \"boolean\",\n",
    "        \"false\"\n",
    "    ],\n",
    "    \"I2\": [\n",
    "        [\"1\", \"2\", \"3\"],\n",
    "        \"1\"\n",
    "    ],\n",
    "    \"STATUS\": [\n",
    "        [\"stopped\", \"running\"],\n",
    "        \"stopped\"\n",
    "    ]\n",
    "    \n",
    "}\n",
    "\"\"\"\n",
    "\n",
    "# Convert Json string to python dictionary\n",
    "input_dict= json.loads(input_str)\n",
    "\n",
    "# Expected MuSMV\n",
    "expected= 'I1: boolean;\\n' + 'I2: {\"1\", \"2\", \"3\"};\\n' + 'STATUS: {\"stopped\", \"running\"};\\n'\n"
   ]
  },
  {
   "cell_type": "code",
   "execution_count": 68,
   "metadata": {},
   "outputs": [],
   "source": [
    "def input_declaration(in_dict):\n",
    "    \"\"\"Declare input variables in NuSMV\n",
    "\n",
    "    Parameters:\n",
    "    ----------\n",
    "    in_dict: dict\n",
    "\n",
    "    Returns:\n",
    "    -------\n",
    "    out_str: string\n",
    "    \"\"\"\n",
    "\n",
    "    out_str= \"\"\n",
    "\n",
    "    # loop through elements\n",
    "    for key,value in in_dict.items():\n",
    "        # Check if type is a string\n",
    "        if isinstance(value[0], str):\n",
    "            input_type= value[0]\n",
    "        # if type is not string\n",
    "        else:\n",
    "            input_type= \"{\"\n",
    "            for idx, item in enumerate(value[0]):\n",
    "                # If not last item\n",
    "                if idx < len(value[0])-1:\n",
    "                    input_type= input_type + '\"' + item + '\"' + \", \"\n",
    "                # If last item\n",
    "                else:\n",
    "                    input_type= input_type + '\"' + item + '\"'\n",
    "            \n",
    "            input_type= input_type + \"}\"\n",
    "\n",
    "\n",
    "        temp= key + \": \" + input_type + \";\\n\"\n",
    "        out_str= out_str + temp\n",
    "\n",
    "    return out_str"
   ]
  },
  {
   "cell_type": "code",
   "execution_count": 69,
   "metadata": {},
   "outputs": [],
   "source": [
    "temp_out= input_declaration(input_dict)"
   ]
  },
  {
   "cell_type": "code",
   "execution_count": 70,
   "metadata": {},
   "outputs": [
    {
     "output_type": "execute_result",
     "data": {
      "text/plain": [
       "'I1: boolean;\\nI2: {\"1\", \"2\", \"3\"};\\nSTATUS: {\"stopped\", \"running\"};\\n'"
      ]
     },
     "metadata": {},
     "execution_count": 70
    }
   ],
   "source": [
    "temp_out"
   ]
  },
  {
   "source": [
    "### Place Declaration"
   ],
   "cell_type": "markdown",
   "metadata": {}
  },
  {
   "cell_type": "code",
   "execution_count": 3,
   "metadata": {},
   "outputs": [],
   "source": [
    "# Json input\n",
    "input_str= \"\"\"\n",
    "{\n",
    "    \"P1\": [\n",
    "        [\"O1\", \"O2\"],\n",
    "        [\"O3\"]\n",
    "    ],\n",
    "    \"P2\":[\n",
    "        [\"O3\"],\n",
    "        [\"O1\", \"O2\"]\n",
    "    ]\n",
    "    \n",
    "}\n",
    "\"\"\"\n",
    "\n",
    "# Convert Json string to python dictionary\n",
    "input_dict= json.loads(input_str)"
   ]
  },
  {
   "cell_type": "code",
   "execution_count": 4,
   "metadata": {},
   "outputs": [],
   "source": [
    "# Expected NuSMV\n",
    "expected= \"P1: boolean;\\n\" + \"P2: boolean;\\n\""
   ]
  },
  {
   "cell_type": "code",
   "execution_count": 6,
   "metadata": {},
   "outputs": [],
   "source": [
    "def place_declaration(in_dict):\n",
    "    \"\"\"Declare place variables in NuSMV\n",
    "\n",
    "    Parameters:\n",
    "    ----------\n",
    "    in_dict: dict\n",
    "\n",
    "    Returns:\n",
    "    -------\n",
    "    out_str: string\n",
    "    \"\"\"\n",
    "\n",
    "    out_str= \"\"\n",
    "\n",
    "    for key,value in in_dict.items():\n",
    "        temp= key + \": \" + \"boolean;\\n\"\n",
    "        out_str= out_str + temp\n",
    "\n",
    "    return out_str"
   ]
  },
  {
   "cell_type": "code",
   "execution_count": 7,
   "metadata": {},
   "outputs": [],
   "source": [
    "assert expected == place_declaration(input_dict)"
   ]
  },
  {
   "cell_type": "code",
   "execution_count": null,
   "metadata": {},
   "outputs": [],
   "source": []
  }
 ]
}
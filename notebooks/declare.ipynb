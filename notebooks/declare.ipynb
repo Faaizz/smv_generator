{
 "metadata": {
  "language_info": {
   "codemirror_mode": {
    "name": "ipython",
    "version": 3
   },
   "file_extension": ".py",
   "mimetype": "text/x-python",
   "name": "python",
   "nbconvert_exporter": "python",
   "pygments_lexer": "ipython3",
   "version": "3.8.5-final"
  },
  "orig_nbformat": 2,
  "kernelspec": {
   "name": "python38564biteds2020condaee33f8e6fe174929adef1f5db772c60a",
   "display_name": "Python 3.8.5 64-bit ('EDS2020': conda)"
  }
 },
 "nbformat": 4,
 "nbformat_minor": 2,
 "cells": [
  {
   "cell_type": "code",
   "execution_count": 2,
   "metadata": {},
   "outputs": [],
   "source": [
    "# imports\n",
    "import json"
   ]
  },
  {
   "source": [
    "## Declarations"
   ],
   "cell_type": "markdown",
   "metadata": {}
  },
  {
   "source": [
    "### Input Declaration"
   ],
   "cell_type": "markdown",
   "metadata": {}
  },
  {
   "cell_type": "code",
   "execution_count": 3,
   "metadata": {},
   "outputs": [],
   "source": [
    "# Json input\n",
    "input_str= \"\"\"\n",
    "{\n",
    "    \"I1\": [\n",
    "        \"boolean\",\n",
    "        \"false\"\n",
    "    ],\n",
    "    \"I2\": [\n",
    "        [\"1\", \"2\", \"3\"],\n",
    "        \"1\"\n",
    "    ],\n",
    "    \"STATUS\": [\n",
    "        [\"stopped\", \"running\"],\n",
    "        \"stopped\"\n",
    "    ]\n",
    "    \n",
    "}\n",
    "\"\"\"\n",
    "\n",
    "# Convert Json string to python dictionary\n",
    "input_dict= json.loads(input_str)\n",
    "\n",
    "# Expected MuSMV\n",
    "expected= \"\"\"\n",
    "I1: boolean;\n",
    "I2: {\"1\", \"2\", \"3\"};\n",
    "STATUS: {\"stopped\", \"running\"};\n",
    "\"\"\"\n",
    "\n"
   ]
  },
  {
   "cell_type": "code",
   "execution_count": null,
   "metadata": {},
   "outputs": [],
   "source": [
    "def input_declaration(in_dict):\n",
    "    \"\"\"Declare input variables in NuSMV\n",
    "\n",
    "    Parameters:\n",
    "    ----------\n",
    "    in_dict: dict\n",
    "\n",
    "    Returns:\n",
    "    -------\n",
    "    out_str: string\n",
    "    \"\"\"\n",
    "\n",
    "    # Assert input type\n",
    "    assert type(in_dict) == \"<type 'dict'>\"\n",
    "\n",
    "    out_str= \"\";\n",
    "\n",
    "    # loop through elements\n",
    "    for idx,val in enumerate(in_dict):\n",
    "        temp= \"\";"
   ]
  }
 ]
}
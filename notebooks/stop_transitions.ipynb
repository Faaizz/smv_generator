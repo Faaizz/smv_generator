{
 "metadata": {
  "language_info": {
   "codemirror_mode": {
    "name": "ipython",
    "version": 3
   },
   "file_extension": ".py",
   "mimetype": "text/x-python",
   "name": "python",
   "nbconvert_exporter": "python",
   "pygments_lexer": "ipython3",
   "version": "3.8.5-final"
  },
  "orig_nbformat": 2,
  "kernelspec": {
   "name": "python38564biteds2020condaee33f8e6fe174929adef1f5db772c60a",
   "display_name": "Python 3.8.5 64-bit ('EDS2020': conda)"
  }
 },
 "nbformat": 4,
 "nbformat_minor": 2,
 "cells": [
  {
   "cell_type": "code",
   "execution_count": 3,
   "metadata": {},
   "outputs": [],
   "source": [
    "# Imports\n",
    "import json\n",
    "from collections import OrderedDict"
   ]
  },
  {
   "source": [
    "### Declaration"
   ],
   "cell_type": "markdown",
   "metadata": {}
  },
  {
   "cell_type": "code",
   "execution_count": 4,
   "metadata": {},
   "outputs": [],
   "source": [
    "# Specified stop place\n",
    "stop_place= \"IDLE\""
   ]
  },
  {
   "cell_type": "code",
   "execution_count": 5,
   "metadata": {},
   "outputs": [],
   "source": [
    "# Json input\n",
    "input_str= \"\"\"\n",
    "{\n",
    "    \"P1\": [\n",
    "        [\"O1\", \"O2\"],\n",
    "        [\"O3\"],\n",
    "        [\"Place 1 comment\"]\n",
    "    ],\n",
    "    \"P2\":[\n",
    "        [\"O2\", \"O3\"],\n",
    "        [\"O1\", \"O2\"],\n",
    "        [\"Place 2 comment\"]\n",
    "    ],\n",
    "    \"P3\": [\n",
    "        [\"O1\"],\n",
    "        [\"O2\", \"O3\"],\n",
    "        [\"Place 3 comment\"]\n",
    "    ],\n",
    "    \"initial\": [ \"P1\", \"P3\" ]\n",
    "    \n",
    "}\n",
    "\"\"\"\n"
   ]
  },
  {
   "cell_type": "code",
   "execution_count": 6,
   "metadata": {},
   "outputs": [],
   "source": [
    "in_dict= json.loads(input_str, object_pairs_hook=OrderedDict)"
   ]
  },
  {
   "cell_type": "code",
   "execution_count": 5,
   "metadata": {},
   "outputs": [
    {
     "output_type": "execute_result",
     "data": {
      "text/plain": [
       "OrderedDict([('P1', [['O1', 'O2'], ['O3'], ['Place 1 comment']]),\n",
       "             ('P2', [['O2', 'O3'], ['O1', 'O2'], ['Place 2 comment']]),\n",
       "             ('P3', [['O1'], ['O2', 'O3'], ['Place 3 comment']]),\n",
       "             ('initial', ['P1', 'P3'])])"
      ]
     },
     "metadata": {},
     "execution_count": 5
    }
   ],
   "source": []
  },
  {
   "cell_type": "code",
   "execution_count": 7,
   "metadata": {},
   "outputs": [],
   "source": [
    "out_str= \"\"\n",
    "\n",
    "# Loop through items\n",
    "for key,value in in_dict.items(): \n",
    "    # Skip the \"initial\" attribute of places\n",
    "    if not (key == \"initial\"):\n",
    "        temp= \"T{0}{1}: \".format(key, stop_place) + \"boolean;\\n\"\n",
    "        out_str= out_str + temp\n"
   ]
  },
  {
   "cell_type": "code",
   "execution_count": 8,
   "metadata": {},
   "outputs": [
    {
     "output_type": "execute_result",
     "data": {
      "text/plain": [
       "'TP1IDLE: boolean;\\nTP2IDLE: boolean;\\nTP3IDLE: boolean;\\n'"
      ]
     },
     "metadata": {},
     "execution_count": 8
    }
   ],
   "source": [
    "out_str"
   ]
  },
  {
   "source": [
    "### Definition"
   ],
   "cell_type": "markdown",
   "metadata": {}
  },
  {
   "cell_type": "code",
   "execution_count": 18,
   "metadata": {},
   "outputs": [],
   "source": [
    "stop_input= \"STOP\"\n",
    "out_str= \"\""
   ]
  },
  {
   "cell_type": "code",
   "execution_count": 19,
   "metadata": {},
   "outputs": [
    {
     "output_type": "execute_result",
     "data": {
      "text/plain": [
       "OrderedDict([('P1', [['O1', 'O2'], ['O3'], ['Place 1 comment']]),\n",
       "             ('P2', [['O2', 'O3'], ['O1', 'O2'], ['Place 2 comment']]),\n",
       "             ('P3', [['O1'], ['O2', 'O3'], ['Place 3 comment']]),\n",
       "             ('initial', ['P1', 'P3'])])"
      ]
     },
     "metadata": {},
     "execution_count": 19
    }
   ],
   "source": [
    "in_dict"
   ]
  },
  {
   "cell_type": "code",
   "execution_count": 20,
   "metadata": {},
   "outputs": [],
   "source": [
    "# Loop through items\n",
    "for key,value in in_dict.items(): \n",
    "    # Skip the \"initial\" attribute of places\n",
    "    if not (key == \"initial\"):\n",
    "        temp= \"T{0}{1}:= ({0}) & ( ({2}) & (!{1}) )\".format(key, stop_place, stop_input) + \";\\n\"\n",
    "        out_str= out_str + temp"
   ]
  },
  {
   "cell_type": "code",
   "execution_count": 21,
   "metadata": {},
   "outputs": [
    {
     "output_type": "execute_result",
     "data": {
      "text/plain": [
       "'TP1IDLE:= (P1) & ( (STOP) & (!IDLE) );\\nTP2IDLE:= (P2) & ( (STOP) & (!IDLE) );\\nTP3IDLE:= (P3) & ( (STOP) & (!IDLE) );\\n'"
      ]
     },
     "metadata": {},
     "execution_count": 21
    }
   ],
   "source": [
    "out_str"
   ]
  },
  {
   "cell_type": "code",
   "execution_count": null,
   "metadata": {},
   "outputs": [],
   "source": []
  }
 ]
}
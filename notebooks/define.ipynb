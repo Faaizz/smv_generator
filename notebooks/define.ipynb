{
 "metadata": {
  "language_info": {
   "codemirror_mode": {
    "name": "ipython",
    "version": 3
   },
   "file_extension": ".py",
   "mimetype": "text/x-python",
   "name": "python",
   "nbconvert_exporter": "python",
   "pygments_lexer": "ipython3",
   "version": "3.8.5-final"
  },
  "orig_nbformat": 2,
  "kernelspec": {
   "name": "python38564biteds2020condaee33f8e6fe174929adef1f5db772c60a",
   "display_name": "Python 3.8.5 64-bit ('EDS2020': conda)"
  }
 },
 "nbformat": 4,
 "nbformat_minor": 2,
 "cells": [
  {
   "cell_type": "code",
   "execution_count": 2,
   "metadata": {},
   "outputs": [],
   "source": [
    "# Imports\n",
    "import json\n",
    "from collections import OrderedDict"
   ]
  },
  {
   "source": [
    "## Definitions"
   ],
   "cell_type": "markdown",
   "metadata": {}
  },
  {
   "source": [
    "### Transitions Definition"
   ],
   "cell_type": "markdown",
   "metadata": {}
  },
  {
   "cell_type": "code",
   "execution_count": 6,
   "metadata": {},
   "outputs": [],
   "source": [
    "# Json input\n",
    "input_str= \"\"\"\n",
    "{\n",
    "    \"T1\":[\n",
    "        [\"P1\", \"P2\"],\n",
    "        [\n",
    "            [ [\"I1\", \"I2\"], [\"I4\"] ],\n",
    "            [ [\"I3\"], [\"I4\"] ]\n",
    "        ],\n",
    "        [\"P3\"]\n",
    "    ],\n",
    "    \"T2\":[\n",
    "        [\"P3\"],\n",
    "        [\n",
    "            [ [\"I4\"], [\"I1\", \"I2\"] ],\n",
    "            [ [\"I4\"], [\"I3\"] ]\n",
    "        ],\n",
    "        [\"P1\", \"P2\"]\n",
    "    ]\n",
    "}\n",
    "\"\"\""
   ]
  },
  {
   "cell_type": "code",
   "execution_count": 8,
   "metadata": {},
   "outputs": [],
   "source": [
    "# Convert Json string to python dictionary\n",
    "input_dict= json.loads(input_str, object_pairs_hook=OrderedDict)"
   ]
  },
  {
   "cell_type": "code",
   "execution_count": 9,
   "metadata": {},
   "outputs": [],
   "source": [
    "# Expected NuSMV\n",
    "expected= \"T1:= (P1 & P2) & ( (I1 & I2 & !I4) | (I3 & !I4) ) & (!P3);\\n\" + \\\n",
    "\"T2:= (P3) & ( (I4 & !I1 & !I2) | (I4 & !I3) ) & (!P1 & !P2);\\n\"  "
   ]
  },
  {
   "cell_type": "code",
   "execution_count": 35,
   "metadata": {},
   "outputs": [],
   "source": [
    "def transition_definition(in_dict):\n",
    "    \"\"\"Define transition firing conditions in NuSMV\n",
    "\n",
    "    Parameters:\n",
    "    ----------\n",
    "    in_dict: dict\n",
    "\n",
    "    Returns:\n",
    "    -------\n",
    "    out_str: string\n",
    "    \"\"\"\n",
    "    out_str= \"\"\n",
    "\n",
    "    for key in iter(in_dict):\n",
    "\n",
    "        # Get value of current transition\n",
    "        value= in_dict[key]\n",
    "\n",
    "        # Pre-places\n",
    "        pre= value[0]\n",
    "        # Pre-places condition\n",
    "        pre_str= \"(\"\n",
    "        for idx,item in enumerate(pre):\n",
    "            # Not last element\n",
    "            if idx < len(pre)-1:\n",
    "                pre_str= pre_str + item + \" & \"\n",
    "            else:\n",
    "                pre_str= pre_str + item\n",
    "\n",
    "        pre_str= pre_str + \")\"\n",
    "\n",
    "        # Inputs\n",
    "        req_inputs= value[1]\n",
    "        # Required inputs condition\n",
    "        req_str= \"( \"\n",
    "        for idx_out,item in enumerate(req_inputs):\n",
    "            high_ins= item[0]\n",
    "            low_ins= item[1]\n",
    "            # Temp string opening brace\n",
    "            temp_str= \"(\"\n",
    "            # temp inputs\n",
    "            for idx_high,high_in in enumerate(high_ins):\n",
    "                # Not last item\n",
    "                if idx_high < len(high_ins)-1:\n",
    "                    temp_str= temp_str + high_in + \" & \"\n",
    "                # If last item\n",
    "                else:\n",
    "                    # If there are no low outputs required\n",
    "                    if len(low_ins) < 1:\n",
    "                        temp_str= temp_str + high_in\n",
    "                    else:\n",
    "                        temp_str= temp_str + high_in + \" & \"\n",
    "            \n",
    "            # Low inputs\n",
    "            for idx_low,low_in in enumerate(low_ins):\n",
    "                # Not last item\n",
    "                if idx_low < len(low_ins)-1:\n",
    "                    temp_str= temp_str + \"!\" + low_in + \" & \"\n",
    "                # If last item\n",
    "                else:\n",
    "                    temp_str= temp_str + \"!\" + low_in\n",
    "\n",
    "            # Temp string closing brace\n",
    "            temp_str= temp_str + \")\"   \n",
    "\n",
    "            # If not last item, add an OR operator\n",
    "            if idx_out < (len(req_inputs)-1):\n",
    "                temp_str= temp_str + \" | \"\n",
    "\n",
    "            # Append Temp string to req_str\n",
    "            req_str= req_str + temp_str\n",
    "\n",
    "        # req_str closin brace\n",
    "        req_str= req_str + \" )\"\n",
    "\n",
    "        # Post-places\n",
    "        post= value[2]\n",
    "        # Post-places condition\n",
    "        post_str= \"(\"\n",
    "        for idx_post,item_post in enumerate(post):\n",
    "            # Not last element\n",
    "            if idx_post < len(post)-1:\n",
    "                post_str= post_str + \"!\" + item_post + \" & \"\n",
    "            else:\n",
    "                post_str= post_str + \"!\" + item_post\n",
    "\n",
    "        post_str= post_str + \")\"\n",
    "\n",
    "        # Append transition name to output\n",
    "        out_str= out_str + key + \":= \"\n",
    "        # Append pre-place condition\n",
    "        out_str= out_str + pre_str + \" & \"\n",
    "        # Append inputs condition\n",
    "        out_str= out_str + req_str + \" & \"\n",
    "        # Append post-place condition\n",
    "        out_str= out_str + post_str + \";\\n\"\n",
    "\n",
    "    return out_str\n",
    "\n"
   ]
  },
  {
   "cell_type": "code",
   "execution_count": 37,
   "metadata": {},
   "outputs": [
    {
     "output_type": "execute_result",
     "data": {
      "text/plain": [
       "'T1:= (P1 & P2) & ( (I1 & I2 & !I4) | (I3 & !I4) ) & (!P3);\\nT2:= (P3) & ( (I4 & !I1 & !I2) | (I4 & !I3) ) & (!P1 & !P2);\\n'"
      ]
     },
     "metadata": {},
     "execution_count": 37
    }
   ],
   "source": [
    "transition_definition(input_dict)"
   ]
  },
  {
   "cell_type": "code",
   "execution_count": 38,
   "metadata": {},
   "outputs": [
    {
     "output_type": "execute_result",
     "data": {
      "text/plain": [
       "'T1:= (P1 & P2) & ( (I1 & I2 & !I4) | (I3 & !I4) ) & (!P3);\\nT2:= (P3) & ( (I4 & !I1 & !I2) | (I4 & !I3) ) & (!P1 & !P2);\\n'"
      ]
     },
     "metadata": {},
     "execution_count": 38
    }
   ],
   "source": [
    "expected"
   ]
  },
  {
   "source": [
    "### Stability Definition"
   ],
   "cell_type": "markdown",
   "metadata": {}
  },
  {
   "cell_type": "code",
   "execution_count": 39,
   "metadata": {},
   "outputs": [],
   "source": [
    "# Json input\n",
    "input_str= \"\"\"\n",
    "{\n",
    "    \"T1\":[\n",
    "        [\"P1\", \"P2\"],\n",
    "        [\n",
    "            [ [\"I1\", \"I2\"], [\"I4\"] ],\n",
    "            [ [\"I3\"], [\"I4\"] ]\n",
    "        ],\n",
    "        [\"P3\"]\n",
    "    ],\n",
    "    \"T2\":[\n",
    "        [\"P3\"],\n",
    "        [\n",
    "            [ [\"I4\"], [\"I1\", \"I2\"] ],\n",
    "            [ [\"I4\"], [\"I3\"] ]\n",
    "        ],\n",
    "        [\"P1\", \"P2\"]\n",
    "    ]\n",
    "}\n",
    "\"\"\""
   ]
  },
  {
   "cell_type": "code",
   "execution_count": 40,
   "metadata": {},
   "outputs": [],
   "source": [
    "# Convert Json string to python dictionary\n",
    "input_dict= json.loads(input_str, object_pairs_hook=OrderedDict)"
   ]
  },
  {
   "cell_type": "code",
   "execution_count": 49,
   "metadata": {},
   "outputs": [],
   "source": [
    "# Expected NuSMV\n",
    "expected= \"stab:= !(T1 | T2);\\n\""
   ]
  },
  {
   "cell_type": "code",
   "execution_count": 46,
   "metadata": {},
   "outputs": [],
   "source": [
    "def stab_definition(in_dict):\n",
    "    \"\"\"Define stability checking condition in NuSMV\n",
    "\n",
    "    Parameters:\n",
    "    ----------\n",
    "    in_dict: dict\n",
    "\n",
    "    Returns:\n",
    "    -------\n",
    "    out_str: string\n",
    "    \"\"\"\n",
    "    out_str=\"stab:= !(\"\n",
    "\n",
    "    keys= list(in_dict)\n",
    "    for idx,key in enumerate(keys):\n",
    "        # If not last item\n",
    "        if idx < len(keys)-1:\n",
    "            # Append transition name and add OR\n",
    "            out_str= out_str + key + \" | \"\n",
    "        else:\n",
    "            # Append transition name\n",
    "            out_str= out_str + key\n",
    "\n",
    "    # Add closing brace and semicolon\n",
    "    out_str= out_str + \");\\n\"\n",
    "\n",
    "    return out_str\n"
   ]
  },
  {
   "cell_type": "code",
   "execution_count": 47,
   "metadata": {},
   "outputs": [
    {
     "output_type": "execute_result",
     "data": {
      "text/plain": [
       "'stab:= !(T1 | T2);\\n'"
      ]
     },
     "metadata": {},
     "execution_count": 47
    }
   ],
   "source": [
    "stab_definition(input_dict)"
   ]
  },
  {
   "cell_type": "code",
   "execution_count": 50,
   "metadata": {},
   "outputs": [
    {
     "output_type": "execute_result",
     "data": {
      "text/plain": [
       "'stab:= !(T1 | T2);\\n'"
      ]
     },
     "metadata": {},
     "execution_count": 50
    }
   ],
   "source": [
    "expected"
   ]
  },
  {
   "source": [
    "### Output Definition"
   ],
   "cell_type": "markdown",
   "metadata": {}
  },
  {
   "cell_type": "code",
   "execution_count": 1,
   "metadata": {},
   "outputs": [],
   "source": [
    "# Json input\n",
    "input_str= \"\"\"\n",
    "{\n",
    "    \"P1\": [\n",
    "        [\"O1\", \"O2\"],\n",
    "        [\"O3\"]\n",
    "    ],\n",
    "    \"P2\":[\n",
    "        [\"O2\", \"O3\"],\n",
    "        [\"O1\", \"O2\"]\n",
    "    ],\n",
    "    \"P3\": [\n",
    "        [\"O1\"],\n",
    "        [\"O2\", \"O3\"]\n",
    "    ]\n",
    "    \n",
    "}\n",
    "\"\"\""
   ]
  },
  {
   "cell_type": "code",
   "execution_count": 61,
   "metadata": {},
   "outputs": [],
   "source": [
    "# Expected output\n",
    "expected= \"-- SET\\n\" + \\\n",
    "    \"O1_set:= P1 | P3;\\n\" + \\\n",
    "    \"O2_set:= P1 | P2;\\n\" + \"O3_set:= P2;\\n\" + \\\n",
    "    \"-- RESET\\n\" + \\\n",
    "    \"O1_reset:= P2;\\n\" + \\\n",
    "    \"O2_reset:= P2 | P3;\\n\" + \"O3_reset:= P1 | P2;\\n\" + \\\n",
    "    \"-- OUTPUT\\n\" + \\\n",
    "    \"O1:= O1_set & !O1_reset;\\n\" + \\\n",
    "    \"O2:= O2_set & !O2_reset;\\n\" + \"O3:= O3_set & !O3_reset;\\n\""
   ]
  },
  {
   "cell_type": "code",
   "execution_count": 4,
   "metadata": {},
   "outputs": [],
   "source": [
    "# Convert Json string to python dictionary\n",
    "input_dict= json.loads(input_str, object_pairs_hook=OrderedDict)\n"
   ]
  },
  {
   "cell_type": "code",
   "execution_count": 5,
   "metadata": {},
   "outputs": [
    {
     "output_type": "execute_result",
     "data": {
      "text/plain": [
       "OrderedDict([('P1', [['O1', 'O2'], ['O3']]),\n",
       "             ('P2', [['O2', 'O3'], ['O1', 'O2']]),\n",
       "             ('P3', [['O1'], ['O2', 'O3']])])"
      ]
     },
     "metadata": {},
     "execution_count": 5
    }
   ],
   "source": [
    "input_dict"
   ]
  },
  {
   "cell_type": "code",
   "execution_count": 38,
   "metadata": {},
   "outputs": [],
   "source": [
    "# Get set of outputs\n",
    "output_set= set()\n",
    "\n",
    "for key in list(input_dict):\n",
    "    for output in input_dict[key][0]:\n",
    "        output_set.add(output)\n",
    "    for output in input_dict[key][1]:\n",
    "        output_set.add(output)\n"
   ]
  },
  {
   "cell_type": "code",
   "execution_count": 39,
   "metadata": {},
   "outputs": [],
   "source": [
    "# Sort alphabetically\n",
    "output_set= sorted(output_set)"
   ]
  },
  {
   "cell_type": "code",
   "execution_count": 40,
   "metadata": {},
   "outputs": [
    {
     "output_type": "stream",
     "name": "stdout",
     "text": [
      "['O1', 'O2', 'O3']\n"
     ]
    }
   ],
   "source": [
    "print(output_set)"
   ]
  },
  {
   "cell_type": "code",
   "execution_count": 41,
   "metadata": {},
   "outputs": [],
   "source": [
    "# Collate list of places for which each output is set/reset\n",
    "output_dict= OrderedDict()\n",
    "\n",
    "for output in output_set:\n",
    "    # Initialize list of places for which output is set/reset\n",
    "    output_dict[output]= [[],[]]\n",
    "\n",
    "    for key in list(input_dict):\n",
    "        # Add places for which output is set\n",
    "        if output in input_dict[key][0]:\n",
    "            output_dict[output][0].append(key)\n",
    "\n",
    "        # Add places for which output is reset\n",
    "        if output in input_dict[key][1]:\n",
    "            output_dict[output][1].append(key)\n"
   ]
  },
  {
   "cell_type": "code",
   "execution_count": 43,
   "metadata": {},
   "outputs": [
    {
     "output_type": "stream",
     "name": "stdout",
     "text": [
      "OrderedDict([('O1', [['P1', 'P3'], ['P2']]), ('O2', [['P1', 'P2'], ['P2', 'P3']]), ('O3', [['P2'], ['P1', 'P3']])])\n"
     ]
    }
   ],
   "source": [
    "print(output_dict)"
   ]
  },
  {
   "cell_type": "code",
   "execution_count": 62,
   "metadata": {},
   "outputs": [],
   "source": [
    "# Generate output string\n",
    "set_output_str= \"-- SET\\n\"\n",
    "reset_output_str= \"-- RESET\\n\"\n",
    "output_str= \"-- OUTPUT\\n\"\n",
    "\n",
    "# Loop through output keys\n",
    "for key in list(output_dict):\n",
    "    output= output_dict[key]\n",
    "\n",
    "    # Get set places\n",
    "    set_output_str= set_output_str +  key + \"_set:= \"\n",
    "    for idx_set,place_set in enumerate(output[0]):\n",
    "        # Not last item\n",
    "        if idx_set < len(output[0])-1:\n",
    "            set_output_str= set_output_str + output[0][idx_set] + \" | \"\n",
    "        # Last Item\n",
    "        else:\n",
    "            set_output_str= set_output_str + output[0][idx_set] + \";\\n\"\n",
    "\n",
    "    # Get reset places\n",
    "    reset_output_str= reset_output_str +  key + \"_reset:= \"\n",
    "    for idx_reset,place_reset in enumerate(output[1]):\n",
    "        # Not last item\n",
    "        if idx_reset < len(output[1])-1:\n",
    "            reset_output_str= reset_output_str + output[1][idx_reset] + \" | \"\n",
    "        # Last Item\n",
    "        else:\n",
    "            reset_output_str= reset_output_str + output[1][idx_reset] + \";\\n\"\n",
    "\n",
    "    # Compose output string\n",
    "    output_str= output_str + key + \":= \" + key + \"_set & !\" + key + \"_reset;\\n\" \n"
   ]
  },
  {
   "cell_type": "code",
   "execution_count": 66,
   "metadata": {},
   "outputs": [
    {
     "output_type": "execute_result",
     "data": {
      "text/plain": [
       "'-- SET\\nO1_set:= P1 | P3;\\nO2_set:= P1 | P2;\\nO3_set:= P2;\\n-- RESET\\nO1_reset:= P2;\\nO2_reset:= P2 | P3;\\nO3_reset:= P1 | P3;\\n-- OUTPUT\\nO1:= O1_set + !O1_reset;\\nO2:= O2_set + !O2_reset;\\nO3:= O3_set + !O3_reset;\\n'"
      ]
     },
     "metadata": {},
     "execution_count": 66
    }
   ],
   "source": [
    "set_output_str + reset_output_str + output_str"
   ]
  },
  {
   "cell_type": "code",
   "execution_count": 67,
   "metadata": {},
   "outputs": [
    {
     "output_type": "execute_result",
     "data": {
      "text/plain": [
       "'-- SET\\nO1_set:= P1 | P3;\\nO2_set:= P1 | P2;\\nO3_set:= P2;\\n-- RESET\\nO1_reset:= P2;\\nO2_reset:= P2 | P3;\\nO3_reset:= P1 | P2;\\n-- OUTPUT\\nO1:= O1_set & !O1_reset;\\nO2:= O2_set & !O2_reset;\\nO3:= O3_set & !O3_reset;\\n'"
      ]
     },
     "metadata": {},
     "execution_count": 67
    }
   ],
   "source": [
    "expected"
   ]
  },
  {
   "cell_type": "code",
   "execution_count": null,
   "metadata": {},
   "outputs": [],
   "source": []
  }
 ]
}
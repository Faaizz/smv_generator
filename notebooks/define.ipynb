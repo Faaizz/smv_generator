{
 "metadata": {
  "language_info": {
   "codemirror_mode": {
    "name": "ipython",
    "version": 3
   },
   "file_extension": ".py",
   "mimetype": "text/x-python",
   "name": "python",
   "nbconvert_exporter": "python",
   "pygments_lexer": "ipython3",
   "version": "3.8.5-final"
  },
  "orig_nbformat": 2,
  "kernelspec": {
   "name": "python38564biteds2020condaee33f8e6fe174929adef1f5db772c60a",
   "display_name": "Python 3.8.5 64-bit ('EDS2020': conda)"
  }
 },
 "nbformat": 4,
 "nbformat_minor": 2,
 "cells": [
  {
   "cell_type": "code",
   "execution_count": 5,
   "metadata": {},
   "outputs": [],
   "source": [
    "# Imports\n",
    "import json\n",
    "from collections import OrderedDict"
   ]
  },
  {
   "source": [
    "## Definitions"
   ],
   "cell_type": "markdown",
   "metadata": {}
  },
  {
   "source": [
    "### Transitions Definition"
   ],
   "cell_type": "markdown",
   "metadata": {}
  },
  {
   "cell_type": "code",
   "execution_count": 6,
   "metadata": {},
   "outputs": [],
   "source": [
    "# Json input\n",
    "input_str= \"\"\"\n",
    "{\n",
    "    \"T1\":[\n",
    "        [\"P1\", \"P2\"],\n",
    "        [\n",
    "            [ [\"I1\", \"I2\"], [\"I4\"] ],\n",
    "            [ [\"I3\"], [\"I4\"] ]\n",
    "        ],\n",
    "        [\"P3\"]\n",
    "    ],\n",
    "    \"T2\":[\n",
    "        [\"P3\"],\n",
    "        [\n",
    "            [ [\"I4\"], [\"I1\", \"I2\"] ],\n",
    "            [ [\"I4\"], [\"I3\"] ]\n",
    "        ],\n",
    "        [\"P1\", \"P2\"]\n",
    "    ]\n",
    "}\n",
    "\"\"\""
   ]
  },
  {
   "cell_type": "code",
   "execution_count": 8,
   "metadata": {},
   "outputs": [],
   "source": [
    "# Convert Json string to python dictionary\n",
    "input_dict= json.loads(input_str, object_pairs_hook=OrderedDict)"
   ]
  },
  {
   "cell_type": "code",
   "execution_count": 9,
   "metadata": {},
   "outputs": [],
   "source": [
    "# Expected NuSMV\n",
    "expected= \"T1:= (P1 & P2) & ( (I1 & I2 & !I4) | (I3 & !I4) ) & (!P3);\\n\" + \\\n",
    "\"T2:= (P3) & ( (I4 & !I1 & !I2) | (I4 & !I3) ) & (!P1 & !P2);\\n\"  "
   ]
  },
  {
   "cell_type": "code",
   "execution_count": 35,
   "metadata": {},
   "outputs": [],
   "source": [
    "def transition_definition(in_dict):\n",
    "    \"\"\"Define transition firing conditions in NuSMV\n",
    "\n",
    "    Parameters:\n",
    "    ----------\n",
    "    in_dict: dict\n",
    "\n",
    "    Returns:\n",
    "    -------\n",
    "    out_str: string\n",
    "    \"\"\"\n",
    "    out_str= \"\"\n",
    "\n",
    "    for key in iter(in_dict):\n",
    "\n",
    "        # Get value of current transition\n",
    "        value= in_dict[key]\n",
    "\n",
    "        # Pre-places\n",
    "        pre= value[0]\n",
    "        # Pre-places condition\n",
    "        pre_str= \"(\"\n",
    "        for idx,item in enumerate(pre):\n",
    "            # Not last element\n",
    "            if idx < len(pre)-1:\n",
    "                pre_str= pre_str + item + \" & \"\n",
    "            else:\n",
    "                pre_str= pre_str + item\n",
    "\n",
    "        pre_str= pre_str + \")\"\n",
    "\n",
    "        # Inputs\n",
    "        req_inputs= value[1]\n",
    "        # Required inputs condition\n",
    "        req_str= \"( \"\n",
    "        for idx_out,item in enumerate(req_inputs):\n",
    "            high_ins= item[0]\n",
    "            low_ins= item[1]\n",
    "            # Temp string opening brace\n",
    "            temp_str= \"(\"\n",
    "            # temp inputs\n",
    "            for idx_high,high_in in enumerate(high_ins):\n",
    "                # Not last item\n",
    "                if idx_high < len(high_ins)-1:\n",
    "                    temp_str= temp_str + high_in + \" & \"\n",
    "                # If last item\n",
    "                else:\n",
    "                    # If there are no low outputs required\n",
    "                    if len(low_ins) < 1:\n",
    "                        temp_str= temp_str + high_in\n",
    "                    else:\n",
    "                        temp_str= temp_str + high_in + \" & \"\n",
    "            \n",
    "            # Low inputs\n",
    "            for idx_low,low_in in enumerate(low_ins):\n",
    "                # Not last item\n",
    "                if idx_low < len(low_ins)-1:\n",
    "                    temp_str= temp_str + \"!\" + low_in + \" & \"\n",
    "                # If last item\n",
    "                else:\n",
    "                    temp_str= temp_str + \"!\" + low_in\n",
    "\n",
    "            # Temp string closing brace\n",
    "            temp_str= temp_str + \")\"   \n",
    "\n",
    "            # If not last item, add an OR operator\n",
    "            if idx_out < (len(req_inputs)-1):\n",
    "                temp_str= temp_str + \" | \"\n",
    "\n",
    "            # Append Temp string to req_str\n",
    "            req_str= req_str + temp_str\n",
    "\n",
    "        # req_str closin brace\n",
    "        req_str= req_str + \" )\"\n",
    "\n",
    "        # Post-places\n",
    "        post= value[2]\n",
    "        # Post-places condition\n",
    "        post_str= \"(\"\n",
    "        for idx_post,item_post in enumerate(post):\n",
    "            # Not last element\n",
    "            if idx_post < len(post)-1:\n",
    "                post_str= post_str + \"!\" + item_post + \" & \"\n",
    "            else:\n",
    "                post_str= post_str + \"!\" + item_post\n",
    "\n",
    "        post_str= post_str + \")\"\n",
    "\n",
    "        # Append transition name to output\n",
    "        out_str= out_str + key + \":= \"\n",
    "        # Append pre-place condition\n",
    "        out_str= out_str + pre_str + \" & \"\n",
    "        # Append inputs condition\n",
    "        out_str= out_str + req_str + \" & \"\n",
    "        # Append post-place condition\n",
    "        out_str= out_str + post_str + \";\\n\"\n",
    "\n",
    "    return out_str\n",
    "\n"
   ]
  },
  {
   "cell_type": "code",
   "execution_count": 37,
   "metadata": {},
   "outputs": [
    {
     "output_type": "execute_result",
     "data": {
      "text/plain": [
       "'T1:= (P1 & P2) & ( (I1 & I2 & !I4) | (I3 & !I4) ) & (!P3);\\nT2:= (P3) & ( (I4 & !I1 & !I2) | (I4 & !I3) ) & (!P1 & !P2);\\n'"
      ]
     },
     "metadata": {},
     "execution_count": 37
    }
   ],
   "source": [
    "transition_definition(input_dict)"
   ]
  },
  {
   "cell_type": "code",
   "execution_count": 38,
   "metadata": {},
   "outputs": [
    {
     "output_type": "execute_result",
     "data": {
      "text/plain": [
       "'T1:= (P1 & P2) & ( (I1 & I2 & !I4) | (I3 & !I4) ) & (!P3);\\nT2:= (P3) & ( (I4 & !I1 & !I2) | (I4 & !I3) ) & (!P1 & !P2);\\n'"
      ]
     },
     "metadata": {},
     "execution_count": 38
    }
   ],
   "source": [
    "expected"
   ]
  },
  {
   "source": [
    "### Stability Definition"
   ],
   "cell_type": "markdown",
   "metadata": {}
  },
  {
   "cell_type": "code",
   "execution_count": 39,
   "metadata": {},
   "outputs": [],
   "source": [
    "# Json input\n",
    "input_str= \"\"\"\n",
    "{\n",
    "    \"T1\":[\n",
    "        [\"P1\", \"P2\"],\n",
    "        [\n",
    "            [ [\"I1\", \"I2\"], [\"I4\"] ],\n",
    "            [ [\"I3\"], [\"I4\"] ]\n",
    "        ],\n",
    "        [\"P3\"]\n",
    "    ],\n",
    "    \"T2\":[\n",
    "        [\"P3\"],\n",
    "        [\n",
    "            [ [\"I4\"], [\"I1\", \"I2\"] ],\n",
    "            [ [\"I4\"], [\"I3\"] ]\n",
    "        ],\n",
    "        [\"P1\", \"P2\"]\n",
    "    ]\n",
    "}\n",
    "\"\"\""
   ]
  },
  {
   "cell_type": "code",
   "execution_count": 40,
   "metadata": {},
   "outputs": [],
   "source": [
    "# Convert Json string to python dictionary\n",
    "input_dict= json.loads(input_str, object_pairs_hook=OrderedDict)"
   ]
  },
  {
   "cell_type": "code",
   "execution_count": 49,
   "metadata": {},
   "outputs": [],
   "source": [
    "# Expected NuSMV\n",
    "expected= \"stab:= !(T1 | T2);\\n\""
   ]
  },
  {
   "cell_type": "code",
   "execution_count": 46,
   "metadata": {},
   "outputs": [],
   "source": [
    "def stab_definition(in_dict):\n",
    "    \"\"\"Define stability checking condition in NuSMV\n",
    "\n",
    "    Parameters:\n",
    "    ----------\n",
    "    in_dict: dict\n",
    "\n",
    "    Returns:\n",
    "    -------\n",
    "    out_str: string\n",
    "    \"\"\"\n",
    "    out_str=\"stab:= !(\"\n",
    "\n",
    "    keys= list(in_dict)\n",
    "    for idx,key in enumerate(keys):\n",
    "        # If not last item\n",
    "        if idx < len(keys)-1:\n",
    "            # Append transition name and add OR\n",
    "            out_str= out_str + key + \" | \"\n",
    "        else:\n",
    "            # Append transition name\n",
    "            out_str= out_str + key\n",
    "\n",
    "    # Add closing brace and semicolon\n",
    "    out_str= out_str + \");\\n\"\n",
    "\n",
    "    return out_str\n"
   ]
  },
  {
   "cell_type": "code",
   "execution_count": 47,
   "metadata": {},
   "outputs": [
    {
     "output_type": "execute_result",
     "data": {
      "text/plain": [
       "'stab:= !(T1 | T2);\\n'"
      ]
     },
     "metadata": {},
     "execution_count": 47
    }
   ],
   "source": [
    "stab_definition(input_dict)"
   ]
  },
  {
   "cell_type": "code",
   "execution_count": 50,
   "metadata": {},
   "outputs": [
    {
     "output_type": "execute_result",
     "data": {
      "text/plain": [
       "'stab:= !(T1 | T2);\\n'"
      ]
     },
     "metadata": {},
     "execution_count": 50
    }
   ],
   "source": [
    "expected"
   ]
  },
  {
   "cell_type": "code",
   "execution_count": null,
   "metadata": {},
   "outputs": [],
   "source": []
  }
 ]
}